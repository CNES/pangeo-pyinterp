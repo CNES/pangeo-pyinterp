{
 "cells": [
  {
   "cell_type": "code",
   "execution_count": null,
   "source": [
    "%matplotlib inline"
   ],
   "outputs": [],
   "metadata": {}
  },
  {
   "cell_type": "markdown",
   "source": [
    "Binning\n",
    "======\n",
    "\n",
    "Statistical data binning is a way to group several more or less\n",
    "continuous values into a smaller number of *bins*. For example, if you\n",
    "have irregularly distributed data over the oceans, you can organize\n",
    "these observations into a lower number of geographical intervals (for\n",
    "example, by grouping them all five degrees into latitudes and\n",
    "longitudes).\n",
    "\n",
    "In this example, we will calculate drifter velocity statistics on the\n",
    "Black Sea over a period of 9 years."
   ],
   "metadata": {}
  },
  {
   "cell_type": "code",
   "execution_count": null,
   "source": [
    "import cartopy.crs\n",
    "import matplotlib\n",
    "import matplotlib.pyplot\n",
    "import numpy\n",
    "import pyinterp\n",
    "import pyinterp.backends.xarray\n",
    "import pyinterp.tests\n",
    "import xarray"
   ],
   "outputs": [],
   "metadata": {}
  },
  {
   "cell_type": "markdown",
   "source": [
    "The first step is to load the data into memory and create the\n",
    "interpolator object:"
   ],
   "metadata": {}
  },
  {
   "cell_type": "code",
   "execution_count": null,
   "source": [
    "ds = xarray.open_dataset(pyinterp.tests.aoml_path())"
   ],
   "outputs": [],
   "metadata": {}
  },
  {
   "cell_type": "markdown",
   "source": [
    "Let's start by calculating the standard for vectors u and v."
   ],
   "metadata": {}
  },
  {
   "cell_type": "code",
   "execution_count": null,
   "source": [
    "norm = (ds.ud**2 + ds.vd**2)**0.5"
   ],
   "outputs": [],
   "metadata": {}
  },
  {
   "cell_type": "markdown",
   "source": [
    "Now, we will describe the grid used to calculate our\n",
    "[binned](https://pangeo-pyinterp.readthedocs.io/en/latest/generated/pyinterp.Binning2D.html#pyinterp.Binning2D)\n",
    "statics."
   ],
   "metadata": {}
  },
  {
   "cell_type": "code",
   "execution_count": null,
   "source": [
    "binning = pyinterp.Binning2D(\n",
    "    pyinterp.Axis(numpy.arange(27, 42, 0.3), is_circle=True),\n",
    "    pyinterp.Axis(numpy.arange(40, 47, 0.3)))\n",
    "binning"
   ],
   "outputs": [],
   "metadata": {}
  },
  {
   "cell_type": "markdown",
   "source": [
    "We push the loaded data into the different defined bins using [simple\n",
    "binning](https://pangeo-pyinterp.readthedocs.io/en/latest/generated/pyinterp.Binning2D.push.html#bilinear-binning)."
   ],
   "metadata": {}
  },
  {
   "cell_type": "code",
   "execution_count": null,
   "source": [
    "binning.clear()\n",
    "binning.push(ds.lon, ds.lat, norm, True)"
   ],
   "outputs": [],
   "metadata": {}
  },
  {
   "cell_type": "markdown",
   "source": [
    "It is possible to retrieve other statistical\n",
    "[variables](https://pangeo-pyinterp.readthedocs.io/en/latest/generated/pyinterp.Binning2D.variable.html#pyinterp.Binning2D.variable)\n",
    "such as variance, minimum, maximum, etc."
   ],
   "metadata": {}
  },
  {
   "cell_type": "code",
   "execution_count": null,
   "source": [
    "nearest = binning.variable('mean')"
   ],
   "outputs": [],
   "metadata": {}
  },
  {
   "cell_type": "markdown",
   "source": [
    "Then, we push the loaded data into the different defined bins using\n",
    "[linear binning](https://pangeo-pyinterp.readthedocs.io/en/latest/generated/pyinterp.Binning2D.push.html#bilinear-binning)"
   ],
   "metadata": {}
  },
  {
   "cell_type": "code",
   "execution_count": null,
   "source": [
    "binning.clear()\n",
    "binning.push(ds.lon, ds.lat, norm, False)\n",
    "linear = binning.variable('mean')"
   ],
   "outputs": [],
   "metadata": {}
  },
  {
   "cell_type": "markdown",
   "source": [
    "We visualize our result"
   ],
   "metadata": {}
  },
  {
   "cell_type": "code",
   "execution_count": null,
   "source": [
    "fig = matplotlib.pyplot.figure(figsize=(10, 8))\n",
    "ax1 = fig.add_subplot(211, projection=cartopy.crs.PlateCarree())\n",
    "lon, lat = numpy.meshgrid(binning.x, binning.y, indexing='ij')\n",
    "pcm = ax1.pcolormesh(lon,\n",
    "                     lat,\n",
    "                     nearest,\n",
    "                     cmap='jet',\n",
    "                     vmin=0,\n",
    "                     vmax=1,\n",
    "                     transform=cartopy.crs.PlateCarree())\n",
    "ax1.coastlines()\n",
    "ax1.set_title(\"Simple binning.\")\n",
    "\n",
    "ax2 = fig.add_subplot(212, projection=cartopy.crs.PlateCarree())\n",
    "lon, lat = numpy.meshgrid(binning.x, binning.y, indexing='ij')\n",
    "pcm = ax2.pcolormesh(lon,\n",
    "                     lat,\n",
    "                     linear,\n",
    "                     cmap='jet',\n",
    "                     vmin=0,\n",
    "                     vmax=1,\n",
    "                     transform=cartopy.crs.PlateCarree())\n",
    "ax2.coastlines()\n",
    "ax2.set_title(\"Linear binning.\")\n",
    "fig.colorbar(pcm, ax=[ax1, ax2], shrink=0.8)\n",
    "fig.show()"
   ],
   "outputs": [],
   "metadata": {}
  }
 ],
 "metadata": {
  "kernelspec": {
   "display_name": "Python 3",
   "language": "python",
   "name": "python3"
  },
  "language_info": {
   "codemirror_mode": {
    "name": "ipython",
    "version": 3
   },
   "file_extension": ".py",
   "mimetype": "text/x-python",
   "name": "python",
   "nbconvert_exporter": "python",
   "pygments_lexer": "ipython3",
   "version": "3.8.5"
  }
 },
 "nbformat": 4,
 "nbformat_minor": 1
}