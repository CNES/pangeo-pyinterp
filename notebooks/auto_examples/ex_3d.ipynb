{
 "cells": [
  {
   "cell_type": "code",
   "execution_count": null,
   "metadata": {},
   "outputs": [],
   "source": [
    "%matplotlib inline"
   ]
  },
  {
   "cell_type": "markdown",
   "metadata": {},
   "source": [
    "3D interpolation\n",
    "=============\n",
    "\n",
    "Interpolation of a three-dimensional regular grid.\n",
    "\n",
    "Trivariate\n",
    "-----------\n",
    "\n",
    "The\n",
    "[trivariate](https://pangeo-pyinterp.readthedocs.io/en/latest/generated/pyinterp.trivariate.html#pyinterp.trivariate)\n",
    "interpolation allows obtaining values at arbitrary points in a 3D space of a\n",
    "function defined on a grid.\n",
    "\n",
    "The distribution contains a 3D field `tcw.nc` that will be used in this help.\n",
    "This file is located in the `tests/dataset` directory at the root of the\n",
    "project.\n",
    "\n",
    "This method performs a bilinear interpolation in 2D space by considering the\n",
    "axes of longitude and latitude of the grid, then performs a linear interpolation\n",
    "in the third dimension. Its interface is similar to the\n",
    "[bivariate](https://pangeo-pyinterp.readthedocs.io/en/latest/generated/pyinterp.bivariate.html#pyinterp.bivariate)\n",
    "class except for a third axis, which is handled by this object.\n",
    "\n",
    "---\n",
    "**Note**\n",
    "\n",
    "When using a time axis, care must be taken to use the same unit of dates, between the axis defined and the dates supplied during interpolation. The function [pyinterp.TemporalAxis.safe_cast()](https://pangeo-pyinterp.readthedocs.io/en/latest/generated/pyinterp.TemporalAxis.safe_cast.html#pyinterp.TemporalAxis.safe_cast) automates this task and will warn you if there is an inconsistency during the date conversion.\n",
    "\n",
    "---"
   ]
  },
  {
   "cell_type": "code",
   "execution_count": null,
   "metadata": {},
   "outputs": [],
   "source": [
    "import os\n",
    "import pathlib\n",
    "import cartopy.crs\n",
    "import matplotlib\n",
    "import matplotlib.pyplot\n",
    "import numpy\n",
    "import pyinterp\n",
    "import pyinterp.backends.xarray\n",
    "import xarray\n",
    "\n",
    "DATASET = pathlib.Path(\"..\", \"..\", \"tests\", \"dataset\")\n",
    "TCW = DATASET.joinpath(\"tcw.nc\")"
   ]
  },
  {
   "cell_type": "markdown",
   "metadata": {},
   "source": [
    "The first step is to load the data into memory and create the\n",
    "interpolator object:"
   ]
  },
  {
   "cell_type": "code",
   "execution_count": null,
   "metadata": {},
   "outputs": [],
   "source": [
    "ds = xarray.open_dataset(TCW)\n",
    "interpolator = pyinterp.backends.xarray.Grid3D(ds.tcw)"
   ]
  },
  {
   "cell_type": "markdown",
   "metadata": {},
   "source": [
    "We will build a new grid that will be used to build a new interpolated\n",
    "grid."
   ]
  },
  {
   "cell_type": "code",
   "execution_count": null,
   "metadata": {},
   "outputs": [],
   "source": [
    "mx, my, mz = numpy.meshgrid(numpy.arange(-180, 180, 0.25) + 1 / 3.0,\n",
    "                            numpy.arange(-80, 80, 0.25) + 1 / 3.0,\n",
    "                            numpy.array([\"2002-07-02T15:00:00\"],\n",
    "                                        dtype=\"datetime64\"),\n",
    "                            indexing='ij')"
   ]
  },
  {
   "cell_type": "markdown",
   "metadata": {},
   "source": [
    "We interpolate our grid using a\n",
    "[classical](https://pangeo-pyinterp.readthedocs.io/en/latest/generated/pyinterp.backends.xarray.Grid3D.trivariate.html#pyinterp.backends.xarray.Grid3D.trivariate):"
   ]
  },
  {
   "cell_type": "code",
   "execution_count": null,
   "metadata": {},
   "outputs": [],
   "source": [
    "trivariate = interpolator.trivariate(\n",
    "    dict(longitude=mx.flatten(), latitude=my.flatten(), time=mz.flatten()))"
   ]
  },
  {
   "cell_type": "markdown",
   "metadata": {},
   "source": [
    "Bicubic on 3D grid\n",
    "----------------------\n",
    "\n",
    "The grid used organizes the latitudes in descending order. We ask our\n",
    "constructor to flip this axis in order to correctly evaluate the bicubic\n",
    "interpolation from this 3D cube (only necessary to perform a bicubic\n",
    "interpolation)."
   ]
  },
  {
   "cell_type": "code",
   "execution_count": null,
   "metadata": {},
   "outputs": [],
   "source": [
    "interpolator = pyinterp.backends.xarray.Grid3D(ds.data_vars[\"tcw\"],\n",
    "                                               increasing_axes=True)"
   ]
  },
  {
   "cell_type": "markdown",
   "metadata": {},
   "source": [
    "We interpolate our grid using a\n",
    "[bicubic](https://pangeo-pyinterp.readthedocs.io/en/latest/generated/pyinterp.backends.xarray.Grid3D.bicubic.html#pyinterp.backends.xarray.Grid3D.bicubic)\n",
    "interpolation in space followed by a linear interpolation\n",
    "in the temporal axis:"
   ]
  },
  {
   "cell_type": "code",
   "execution_count": null,
   "metadata": {},
   "outputs": [],
   "source": [
    "bicubic = interpolator.bicubic(\n",
    "    dict(longitude=mx.flatten(), latitude=my.flatten(), time=mz.flatten()))"
   ]
  },
  {
   "cell_type": "markdown",
   "metadata": {},
   "source": [
    "We transform our result cubes into a matrix."
   ]
  },
  {
   "cell_type": "code",
   "execution_count": null,
   "metadata": {},
   "outputs": [],
   "source": [
    "trivariate = trivariate.reshape(mx.shape).squeeze(axis=2)\n",
    "bicubic = bicubic.reshape(mx.shape).squeeze(axis=2)\n",
    "lons = mx[:, 0].squeeze()\n",
    "lats = my[0, :].squeeze()"
   ]
  },
  {
   "cell_type": "markdown",
   "metadata": {},
   "source": [
    "Let's visualize our results."
   ]
  },
  {
   "cell_type": "code",
   "execution_count": null,
   "metadata": {},
   "outputs": [],
   "source": [
    "fig = matplotlib.pyplot.figure(figsize=(5, 8))\n",
    "ax1 = fig.add_subplot(\n",
    "    211, projection=cartopy.crs.PlateCarree(central_longitude=180))\n",
    "pcm = ax1.pcolormesh(lons,\n",
    "                     lats,\n",
    "                     trivariate.T,\n",
    "                     cmap='jet',\n",
    "                     transform=cartopy.crs.PlateCarree(),\n",
    "                     vmin=0,\n",
    "                     vmax=80)\n",
    "ax1.coastlines()\n",
    "ax1.set_extent([80, 170, -45, 30], crs=cartopy.crs.PlateCarree())\n",
    "ax1.set_title(\"Trilinear\")\n",
    "\n",
    "ax2 = fig.add_subplot(\n",
    "    212, projection=cartopy.crs.PlateCarree(central_longitude=180))\n",
    "pcm = ax2.pcolormesh(lons,\n",
    "                     lats,\n",
    "                     bicubic.T,\n",
    "                     cmap='jet',\n",
    "                     transform=cartopy.crs.PlateCarree(),\n",
    "                     vmin=0,\n",
    "                     vmax=80)\n",
    "ax2.coastlines()\n",
    "ax2.set_extent([80, 170, -45, 30], crs=cartopy.crs.PlateCarree())\n",
    "ax2.set_title(\"Spline & Linear in time\")\n",
    "fig.colorbar(pcm, ax=[ax1, ax2], shrink=0.8)\n",
    "fig.show()"
   ]
  }
 ],
 "metadata": {
  "kernelspec": {
   "display_name": "Python 3",
   "language": "python",
   "name": "python3"
  },
  "language_info": {
   "codemirror_mode": {
    "name": "ipython",
    "version": 3
   },
   "file_extension": ".py",
   "mimetype": "text/x-python",
   "name": "python",
   "nbconvert_exporter": "python",
   "pygments_lexer": "ipython3",
   "version": "3.8.5"
  }
 },
 "nbformat": 4,
 "nbformat_minor": 1
}
