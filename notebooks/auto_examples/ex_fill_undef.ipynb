{
  "cells": [
    {
      "cell_type": "code",
      "execution_count": null,
      "metadata": {
        "collapsed": false
      },
      "outputs": [],
      "source": [
        "%matplotlib inline"
      ]
    },
    {
      "cell_type": "markdown",
      "metadata": {},
      "source": [
        "Fill NaN values\n===============\n\nThe undefined values in the grids do not allow interpolation of values\nlocated in the neighborhood. This behavior is a concern when you need to\ninterpolate values near the land/sea mask of some maps.\n"
      ]
    },
    {
      "cell_type": "code",
      "execution_count": null,
      "metadata": {
        "collapsed": false
      },
      "outputs": [],
      "source": [
        "import os\nimport pathlib\nimport cartopy.crs\nimport cartopy.feature\nimport matplotlib.pyplot\nimport numpy\nimport pyinterp.backends.xarray\n# Module that handles the filling of undefined values.\nimport pyinterp.fill\nimport xarray\n\ntry:\n    # When generating the documentation the variable DATASET points to the data\n    # path.\n    DATASET = pathlib.Path(os.environ['DATASET'])\nexcept KeyError:\n    # Otherwise, the relative folder path is used.\n    DATASET = pathlib.Path(\"..\", \"..\", \"tests\", \"dataset\")\nMSS = DATASET.joinpath(\"mss.nc\")"
      ]
    },
    {
      "cell_type": "markdown",
      "metadata": {},
      "source": [
        "For example, in the figure above, if you want to interpolate the gray\npoint with a bilinear interpolation, the undefined red value, set to\nNaN, will not allow its calculation (the result of the arithmetic\noperation using a value equal to NaN is NaN). On the other hand, the\ngreen point can be interpolated normally because the 4 surrounding\npoints are defined.\n"
      ]
    },
    {
      "cell_type": "code",
      "execution_count": null,
      "metadata": {
        "collapsed": false
      },
      "outputs": [],
      "source": [
        "fig = matplotlib.pyplot.figure(figsize=(10, 8))\nfig.patch.set_alpha(0.0)\nax = fig.add_subplot(111, projection=cartopy.crs.PlateCarree())\nax.set_extent([-6, 1, 47.5, 51.5], crs=cartopy.crs.PlateCarree())\nax.add_feature(cartopy.feature.LAND.with_scale('110m'))\nax.gridlines(draw_labels=True, dms=True, x_inline=False, y_inline=False)\n\nlons, lats = numpy.meshgrid(numpy.arange(-6, 2),\n                            numpy.arange(47.5, 52.5),\n                            indexing='ij')\nmask = numpy.array([\n    [1, 1, 1, 0, 0, 0, 0, 0],  # yapf: disable\n    [1, 1, 0, 0, 0, 0, 0, 0],  # yapf: disable\n    [1, 1, 1, 1, 1, 1, 0, 0],  # yapf: disable\n    [1, 0, 0, 1, 1, 1, 1, 1],  # yapf: disable\n    [1, 1, 1, 0, 0, 0, 0, 0]\n]).T\nax.scatter(lons.flatten(),\n           lats.flatten(),\n           c=mask,\n           cmap=\"bwr_r\",\n           transform=cartopy.crs.PlateCarree(),\n           vmin=0,\n           vmax=1)\nax.plot([-3.5], [49], linestyle='', marker='.', color='dimgray', markersize=15)\nax.plot([-2.5], [50], linestyle='', marker='.', color='green', markersize=15)\nfig.show()"
      ]
    },
    {
      "cell_type": "markdown",
      "metadata": {},
      "source": [
        "To overcome this problem, the library provides methods to fill undefined\nvalues.\n\n::: {.note}\n::: {.title}\nNote\n:::\n\nIn the case of an interpolation of the nearest neighbor the undefined\nvalues have no impact because no arithmetic operation is done on the\ngrid values: we just return the value of the nearest point.\n:::\n\nLOESS\n=====\n\nThe :py`first <pyinterp.fill.loess>`{.interpreted-text role=\"func\"}\nmethod applies a weighted local regression to extrapolate the boundary\nbetween defined and undefined values. The user must indicate the number\nof pixels on the X and Y axes to be considered in the calculation.\n\nLet\\'s start by building the object handling our grid.\n"
      ]
    },
    {
      "cell_type": "code",
      "execution_count": null,
      "metadata": {
        "collapsed": false
      },
      "outputs": [],
      "source": [
        "ds = xarray.open_dataset(MSS)\ngrid = pyinterp.backends.xarray.Grid2D(ds.mss)"
      ]
    },
    {
      "cell_type": "markdown",
      "metadata": {},
      "source": [
        "The function filling the holes near the mask is called\n"
      ]
    },
    {
      "cell_type": "code",
      "execution_count": null,
      "metadata": {
        "collapsed": false
      },
      "outputs": [],
      "source": [
        "filled = pyinterp.fill.loess(grid, nx=3, ny=3)"
      ]
    },
    {
      "cell_type": "markdown",
      "metadata": {},
      "source": [
        "The image below illustrates the result:\n"
      ]
    },
    {
      "cell_type": "code",
      "execution_count": null,
      "metadata": {
        "collapsed": false
      },
      "outputs": [],
      "source": [
        "fig = matplotlib.pyplot.figure()\nfig.patch.set_alpha(0.0)\nax1 = fig.add_subplot(\n    211, projection=cartopy.crs.PlateCarree(central_longitude=180))\nlons, lats = numpy.meshgrid(grid.x, grid.y, indexing='ij')\npcm = ax1.pcolormesh(lons,\n                     lats,\n                     ds.mss.T,\n                     cmap='jet',\n                     transform=cartopy.crs.PlateCarree(),\n                     vmin=-0.1,\n                     vmax=0.1)\nax1.coastlines()\nax1.set_title(\"Original MSS\")\nax1.set_extent([0, 170, -45, 30], crs=cartopy.crs.PlateCarree())\nax2 = fig.add_subplot(\n    212, projection=cartopy.crs.PlateCarree(central_longitude=180))\npcm = ax2.pcolormesh(lons,\n                     lats,\n                     filled,\n                     cmap='jet',\n                     transform=cartopy.crs.PlateCarree(),\n                     vmin=-0.1,\n                     vmax=0.1)\nax2.coastlines()\nax2.set_title(\"MSS modified using the LOESS filter\")\nax2.set_extent([0, 170, -45, 30], crs=cartopy.crs.PlateCarree())\nfig.colorbar(pcm, ax=[ax1, ax2], shrink=0.8)\nfig.show()"
      ]
    },
    {
      "cell_type": "markdown",
      "metadata": {},
      "source": [
        "Gauss-Seidel\n============\n\nThe :py`second <pyinterp.fill.gauss_seidel>`{.interpreted-text\nrole=\"func\"} method consists of replacing all undefined values (NaN) in\na grid using the Gauss-Seidel method by relaxation. This\n[link](https://math.berkeley.edu/~wilken/228A.F07/chr_lecture.pdf)\ncontains more information on the method used.\n"
      ]
    },
    {
      "cell_type": "code",
      "execution_count": null,
      "metadata": {
        "collapsed": false
      },
      "outputs": [],
      "source": [
        "has_converged, filled = pyinterp.fill.gauss_seidel(grid)"
      ]
    },
    {
      "cell_type": "markdown",
      "metadata": {},
      "source": [
        "The image below illustrates the result:\n"
      ]
    },
    {
      "cell_type": "code",
      "execution_count": null,
      "metadata": {
        "collapsed": false
      },
      "outputs": [],
      "source": [
        "fig = matplotlib.pyplot.figure(figsize=(10, 10))\nfig.patch.set_alpha(0.0)\nax1 = fig.add_subplot(\n    211, projection=cartopy.crs.PlateCarree(central_longitude=180))\npcm = ax1.pcolormesh(lons,\n                     lats,\n                     ds.mss.T,\n                     cmap='jet',\n                     transform=cartopy.crs.PlateCarree(),\n                     vmin=-0.1,\n                     vmax=0.1)\nax1.coastlines()\nax1.set_title(\"Original MSS\")\nax1.set_extent([0, 170, -45, 30], crs=cartopy.crs.PlateCarree())\nax2 = fig.add_subplot(\n    212, projection=cartopy.crs.PlateCarree(central_longitude=180))\npcm = ax2.pcolormesh(lons,\n                     lats,\n                     filled,\n                     cmap='jet',\n                     transform=cartopy.crs.PlateCarree(),\n                     vmin=-0.1,\n                     vmax=0.1)\nax2.coastlines()\nax2.set_title(\"MSS modified using Gauss-Seidel\")\nax2.set_extent([0, 170, -45, 30], crs=cartopy.crs.PlateCarree())\nfig.colorbar(pcm, ax=[ax1, ax2], shrink=0.8)\nfig.show()"
      ]
    }
  ],
  "metadata": {
    "kernelspec": {
      "display_name": "Python 3",
      "language": "python",
      "name": "python3"
    },
    "language_info": {
      "codemirror_mode": {
        "name": "ipython",
        "version": 3
      },
      "file_extension": ".py",
      "mimetype": "text/x-python",
      "name": "python",
      "nbconvert_exporter": "python",
      "pygments_lexer": "ipython3",
      "version": "3.7.10"
    }
  },
  "nbformat": 4,
  "nbformat_minor": 0
}