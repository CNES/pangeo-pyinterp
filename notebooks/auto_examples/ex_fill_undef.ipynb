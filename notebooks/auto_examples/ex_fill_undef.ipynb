{
  "cells": [
    {
      "cell_type": "code",
      "execution_count": null,
      "metadata": {
        "collapsed": false
      },
      "outputs": [],
      "source": [
        "%matplotlib inline"
      ]
    },
    {
      "cell_type": "markdown",
      "metadata": {},
      "source": [
        "# Fill NaN values\r\n\r\nThe undefined values in the grids do not allow interpolation of values\r\nlocated in the neighborhood. This behavior is a concern when you need to\r\ninterpolate values near the land/sea mask of some maps. The library\r\nprovides two functions to fill the undefined values.\r\n\r\n## LOESS\r\n\r\nThe :py`first <pyinterp.fill.loess>`{.interpreted-text role=\"func\"}\r\nmethod applies a weighted local regression to extrapolate the boundary\r\nbetween defined and undefined values. The user must indicate the number\r\nof pixels on the X and Y axes to be considered in the calculation. For\r\nexample:\r\n"
      ]
    },
    {
      "cell_type": "code",
      "execution_count": null,
      "metadata": {
        "collapsed": false
      },
      "outputs": [],
      "source": [
        "import os\nimport pathlib\nimport cartopy.crs\nimport matplotlib.pyplot\nimport numpy\nimport pyinterp.backends.xarray\n# Module that handles the filling of undefined values.\nimport pyinterp.fill\nimport xarray\n\nDATASET = pathlib.Path(os.environ['DATASET'])\nMSS = DATASET.joinpath(\"mss.nc\")"
      ]
    },
    {
      "cell_type": "markdown",
      "metadata": {},
      "source": [
        "Load the data into memory\r\n"
      ]
    },
    {
      "cell_type": "code",
      "execution_count": null,
      "metadata": {
        "collapsed": false
      },
      "outputs": [],
      "source": [
        "ds = xarray.open_dataset(MSS)\ngrid = pyinterp.backends.xarray.Grid2D(ds.mss)"
      ]
    },
    {
      "cell_type": "markdown",
      "metadata": {},
      "source": [
        "The function filling the holes near the mask is called\r\n"
      ]
    },
    {
      "cell_type": "code",
      "execution_count": null,
      "metadata": {
        "collapsed": false
      },
      "outputs": [],
      "source": [
        "filled = pyinterp.fill.loess(grid, nx=3, ny=3)"
      ]
    },
    {
      "cell_type": "markdown",
      "metadata": {},
      "source": [
        "The image below illustrates the result:\r\n"
      ]
    },
    {
      "cell_type": "code",
      "execution_count": null,
      "metadata": {
        "collapsed": false
      },
      "outputs": [],
      "source": [
        "fig = matplotlib.pyplot.figure(figsize=(10, 10))\nfig.patch.set_alpha(0.0)\nax1 = fig.add_subplot(\n    211, projection=cartopy.crs.PlateCarree(central_longitude=180))\nlons, lats = numpy.meshgrid(grid.x, grid.y, indexing='ij')\npcm = ax1.pcolormesh(lons,\n                     lats,\n                     ds.mss.T,\n                     cmap='jet',\n                     transform=cartopy.crs.PlateCarree(),\n                     vmin=-0.1,\n                     vmax=0.1)\nax1.coastlines()\nax1.set_title(\"Original MSS\")\nax1.set_extent([40, 170, -45, 30], crs=cartopy.crs.PlateCarree())\nax2 = fig.add_subplot(212, projection=cartopy.crs.PlateCarree(central_longitude=180))\npcm = ax2.pcolormesh(lons,\n                     lats,\n                     filled,\n                     cmap='jet',\n                     transform=cartopy.crs.PlateCarree(),\n                     vmin=-0.1,\n                     vmax=0.1)\nax2.coastlines()\nax2.set_title(\"MSS modified using the LOESS filter\")\nax2.set_extent([40, 170, -45, 30], crs=cartopy.crs.PlateCarree())\nfig.colorbar(pcm, ax=[ax1, ax2], shrink=0.8)\nfig.show()"
      ]
    },
    {
      "cell_type": "markdown",
      "metadata": {},
      "source": [
        "# Gauss-Seidel\r\n\r\nThe :py`second <pyinterp.fill.gauss_seidel>`{.interpreted-text\r\nrole=\"func\"} method consists of replacing all undefined values (NaN) in\r\na grid using the Gauss-Seidel method by relaxation. This\r\n[link](https://math.berkeley.edu/~wilken/228A.F07/chr_lecture.pdf)\r\ncontains more information on the method used.\r\n"
      ]
    },
    {
      "cell_type": "code",
      "execution_count": null,
      "metadata": {
        "collapsed": false
      },
      "outputs": [],
      "source": [
        "has_converged, filled = pyinterp.fill.gauss_seidel(grid)"
      ]
    },
    {
      "cell_type": "markdown",
      "metadata": {},
      "source": [
        "The image below illustrates the result:\r\n"
      ]
    },
    {
      "cell_type": "code",
      "execution_count": null,
      "metadata": {
        "collapsed": false
      },
      "outputs": [],
      "source": [
        "fig = matplotlib.pyplot.figure(figsize=(10, 10))\nfig.patch.set_alpha(0.0)\nax1 = fig.add_subplot(\n    211, projection=cartopy.crs.PlateCarree(central_longitude=180))\npcm = ax1.pcolormesh(lons,\n                     lats,\n                     ds.mss.T,\n                     cmap='jet',\n                     transform=cartopy.crs.PlateCarree(),\n                     vmin=-0.1,\n                     vmax=0.1)\nax1.coastlines()\nax1.set_title(\"Original MSS\")\nax1.set_extent([40, 170, -45, 30], crs=cartopy.crs.PlateCarree())\nax2 = fig.add_subplot(212, projection=cartopy.crs.PlateCarree(central_longitude=180))\npcm = ax2.pcolormesh(lons,\n                     lats,\n                     filled,\n                     cmap='jet',\n                     transform=cartopy.crs.PlateCarree(),\n                     vmin=-0.1,\n                     vmax=0.1)\nax2.coastlines()\nax2.set_title(\"MSS modified using Gauss-Seidel\")\nax2.set_extent([40, 170, -45, 30], crs=cartopy.crs.PlateCarree())\nfig.colorbar(pcm, ax=[ax1, ax2], shrink=0.8)\nfig.show()"
      ]
    }
  ],
  "metadata": {
    "kernelspec": {
      "display_name": "Python 3",
      "language": "python",
      "name": "python3"
    },
    "language_info": {
      "codemirror_mode": {
        "name": "ipython",
        "version": 3
      },
      "file_extension": ".py",
      "mimetype": "text/x-python",
      "name": "python",
      "nbconvert_exporter": "python",
      "pygments_lexer": "ipython3",
      "version": "3.6.7"
    }
  },
  "nbformat": 4,
  "nbformat_minor": 0
}