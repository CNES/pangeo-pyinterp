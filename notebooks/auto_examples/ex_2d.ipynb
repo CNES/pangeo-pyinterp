{
  "cells": [
    {
      "cell_type": "code",
      "execution_count": null,
      "metadata": {
        "collapsed": false
      },
      "outputs": [],
      "source": [
        "%matplotlib inline"
      ]
    },
    {
      "cell_type": "markdown",
      "metadata": {},
      "source": [
        "2D interpolation\n================\n\nInterpolation of a two-dimensional regular grid.\n\nBivariate\n---------\n\nPerform a bivariate interpolation of gridded data points.\n\nThe distribution contains a 2D field `mss.nc` that will be used in this\nhelp. This file is located in the `tests/dataset` directory at the root\nof the project.\n"
      ]
    },
    {
      "cell_type": "code",
      "execution_count": null,
      "metadata": {
        "collapsed": false
      },
      "outputs": [],
      "source": [
        "import os\nimport pathlib\nimport cartopy.crs\nimport matplotlib\nimport matplotlib.pyplot\nimport numpy\nimport pyinterp\nimport pyinterp.backends.xarray\nimport xarray\n\ntry:\n    # When generating the documentation the variable DATASET points to the data\n    # path.\n    DATASET = pathlib.Path(os.environ['DATASET'])\nexcept KeyError:\n    # Otherwise, the relative folder path is used.\n    DATASET = pathlib.Path(\"..\", \"..\", \"tests\", \"dataset\")\nMSS = DATASET.joinpath(\"mss.nc\")"
      ]
    },
    {
      "cell_type": "markdown",
      "metadata": {},
      "source": [
        "The first step is to load the data into memory and create the\ninterpolator object:\n"
      ]
    },
    {
      "cell_type": "code",
      "execution_count": null,
      "metadata": {
        "collapsed": false
      },
      "outputs": [],
      "source": [
        "ds = xarray.open_dataset(MSS)\ninterpolator = pyinterp.backends.xarray.Grid2D(ds.mss)"
      ]
    },
    {
      "cell_type": "markdown",
      "metadata": {},
      "source": [
        "We will then build the coordinates on which we want to interpolate our\ngrid:\n\n::: {.note}\n::: {.title}\nNote\n:::\n\nThe coordinates used for interpolation are shifted to avoid using the\npoints of the bivariate function.\n:::\n"
      ]
    },
    {
      "cell_type": "code",
      "execution_count": null,
      "metadata": {
        "collapsed": false
      },
      "outputs": [],
      "source": [
        "mx, my = numpy.meshgrid(numpy.arange(-180, 180, 1) + 1 / 3.0,\n                        numpy.arange(-89, 89, 1) + 1 / 3.0,\n                        indexing='ij')"
      ]
    },
    {
      "cell_type": "markdown",
      "metadata": {},
      "source": [
        "The grid is :py`interpolated\n<pyinterp.backends.xarray.Grid2D.bivariate>`{.interpreted-text\nrole=\"meth\"} to the desired coordinates:\n"
      ]
    },
    {
      "cell_type": "code",
      "execution_count": null,
      "metadata": {
        "collapsed": false
      },
      "outputs": [],
      "source": [
        "mss = interpolator.bivariate(\n    coords=dict(lon=mx.flatten(), lat=my.flatten())).reshape(mx.shape)"
      ]
    },
    {
      "cell_type": "markdown",
      "metadata": {},
      "source": [
        "Let\\'s visualize the original grid and the result of the interpolation.\n"
      ]
    },
    {
      "cell_type": "code",
      "execution_count": null,
      "metadata": {
        "collapsed": false
      },
      "outputs": [],
      "source": [
        "fig = matplotlib.pyplot.figure(figsize=(10, 8))\nfig.patch.set_alpha(0.0)\nax1 = fig.add_subplot(\n    211, projection=cartopy.crs.PlateCarree(central_longitude=180))\nlons, lats = numpy.meshgrid(ds.lon, ds.lat, indexing='ij')\npcm = ax1.pcolormesh(lons,\n                     lats,\n                     ds.mss.T,\n                     cmap='jet',\n                     transform=cartopy.crs.PlateCarree(),\n                     vmin=-0.1,\n                     vmax=0.1)\nax1.coastlines()\nax1.set_title(\"Original MSS\")\nax2 = fig.add_subplot(212, projection=cartopy.crs.PlateCarree())\npcm = ax2.pcolormesh(mx,\n                     my,\n                     mss,\n                     cmap='jet',\n                     transform=cartopy.crs.PlateCarree(),\n                     vmin=-0.1,\n                     vmax=0.1)\nax2.coastlines()\nax2.set_title(\"Bilinear Interpolated MSS\")\nfig.colorbar(pcm, ax=[ax1, ax2], shrink=0.8)\nfig.show()"
      ]
    },
    {
      "cell_type": "markdown",
      "metadata": {},
      "source": [
        "Values can be interpolated with several methods: *bilinear*, *nearest*,\nand *inverse distance weighting*. Distance calculations, if necessary,\nare calculated using the [Haversine\nformula](https://en.wikipedia.org/wiki/Haversine_formula).\n\nBicubic\n=======\n\nTo interpolate data points on a regular two-dimensional grid. The\ninterpolated surface is smoother than the corresponding surfaces\nobtained by bilinear interpolation. Spline functions provided by\n[GSL](https://www.gnu.org/software/gsl/) achieve bicubic interpolation.\n\n::: {.warning}\n::: {.title}\nWarning\n:::\n\nWhen using this interpolator, pay attention to the undefined values.\nBecause as long as the calculation window uses an indefinite point, the\ninterpolator will compute indeterminate values. In other words, this\ninterpolator increases the area covered by the masked values. To avoid\nthis behavior, it is necessary to\n`pre-process <fill_values>`{.interpreted-text role=\"ref\"} the grid to\ndelete undefined values.\n:::\n\nThe interpolation\n:py`bicubic <pyinterp.backends.xarray.Grid2D.bicubic>`{.interpreted-text\nrole=\"meth\"} function has more parameters to define the data frame used\nby the spline functions and how to process the edges of the regional\ngrids:\n"
      ]
    },
    {
      "cell_type": "code",
      "execution_count": null,
      "metadata": {
        "collapsed": false
      },
      "outputs": [],
      "source": [
        "mss = interpolator.bicubic(coords=dict(lon=mx.flatten(), lat=my.flatten()),\n                           nx=3,\n                           ny=3).reshape(mx.shape)"
      ]
    },
    {
      "cell_type": "markdown",
      "metadata": {},
      "source": [
        "::: {.warning}\n::: {.title}\nWarning\n:::\n\nThe grid provided must have strictly increasing axes to meet the\nspecifications of the GSL library. When building the grid, specify the\n`increasing_axes` option to flip the decreasing axes and the grid\nautomatically. For example:\n\n``` {.python}\ninterpolator = pyinterp.backends.xarray.Grid2D(\n    ds.mss, increasing_axes=True)\n```\n:::\n"
      ]
    },
    {
      "cell_type": "code",
      "execution_count": null,
      "metadata": {
        "collapsed": false
      },
      "outputs": [],
      "source": [
        "fig = matplotlib.pyplot.figure(figsize=(10, 8))\nfig.patch.set_alpha(0.0)\nax1 = fig.add_subplot(\n    211, projection=cartopy.crs.PlateCarree(central_longitude=180))\npcm = ax1.pcolormesh(lons,\n                     lats,\n                     ds.mss.T,\n                     cmap='jet',\n                     transform=cartopy.crs.PlateCarree(),\n                     vmin=-0.1,\n                     vmax=0.1)\nax1.coastlines()\nax1.set_title(\"Original MSS\")\nax2 = fig.add_subplot(212, projection=cartopy.crs.PlateCarree())\npcm = ax2.pcolormesh(mx,\n                     my,\n                     mss,\n                     cmap='jet',\n                     transform=cartopy.crs.PlateCarree(),\n                     vmin=-0.1,\n                     vmax=0.1)\nax2.coastlines()\nax2.set_title(\"Bicubic Interpolated MSS\")\nfig.colorbar(pcm, ax=[ax1, ax2], shrink=0.8)\nfig.show()"
      ]
    }
  ],
  "metadata": {
    "kernelspec": {
      "display_name": "Python 3",
      "language": "python",
      "name": "python3"
    },
    "language_info": {
      "codemirror_mode": {
        "name": "ipython",
        "version": 3
      },
      "file_extension": ".py",
      "mimetype": "text/x-python",
      "name": "python",
      "nbconvert_exporter": "python",
      "pygments_lexer": "ipython3",
      "version": "3.7.10"
    }
  },
  "nbformat": 4,
  "nbformat_minor": 0
}