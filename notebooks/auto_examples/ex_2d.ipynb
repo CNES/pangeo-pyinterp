{
  "cells": [
    {
      "cell_type": "code",
      "execution_count": null,
      "metadata": {
        "collapsed": false
      },
      "outputs": [],
      "source": [
        "%matplotlib inline"
      ]
    },
    {
      "cell_type": "markdown",
      "metadata": {},
      "source": [
        "# 2D interpolation\r\n\r\nInterpolation of a two-dimensional regular grid.\r\n\r\n## Bivariate\r\n\r\nPerform a bivariate interpolation of gridded data points.\r\n\r\nThe distribution contains a 2D field `mss.nc` that will be used in this\r\nhelp. This file is located in the `tests/dataset` directory at the root\r\nof the project.\r\n"
      ]
    },
    {
      "cell_type": "code",
      "execution_count": null,
      "metadata": {
        "collapsed": false
      },
      "outputs": [],
      "source": [
        "import os\nimport pathlib\nimport cartopy.crs\nimport matplotlib\nimport matplotlib.pyplot\nimport numpy\nimport pyinterp\nimport pyinterp.backends.xarray\nimport xarray\n\nDATASET = pathlib.Path(os.environ['DATASET'])\nMSS = DATASET.joinpath(\"mss.nc\")"
      ]
    },
    {
      "cell_type": "markdown",
      "metadata": {},
      "source": [
        "The first step is to load the data into memory and create the\r\ninterpolator object:\r\n"
      ]
    },
    {
      "cell_type": "code",
      "execution_count": null,
      "metadata": {
        "collapsed": false
      },
      "outputs": [],
      "source": [
        "ds = xarray.open_dataset(MSS)\ninterpolator = pyinterp.backends.xarray.Grid2D(ds.mss)"
      ]
    },
    {
      "cell_type": "markdown",
      "metadata": {},
      "source": [
        "We will then build the coordinates on which we want to interpolate our\r\ngrid:\r\n\r\n::: {.note}\r\n::: {.title}\r\nNote\r\n:::\r\n\r\nThe coordinates used for interpolation are shifted to avoid using the\r\npoints of the bivariate function.\r\n:::\r\n"
      ]
    },
    {
      "cell_type": "code",
      "execution_count": null,
      "metadata": {
        "collapsed": false
      },
      "outputs": [],
      "source": [
        "mx, my = numpy.meshgrid(numpy.arange(-180, 180, 1) + 1 / 3.0,\n                        numpy.arange(-89, 89, 1) + 1 / 3.0,\n                        indexing='ij')"
      ]
    },
    {
      "cell_type": "markdown",
      "metadata": {},
      "source": [
        "The grid is :py`interpolated\r\n<pyinterp.backends.xarray.Grid2D.bivariate>`{.interpreted-text\r\nrole=\"meth\"} to the desired coordinates:\r\n"
      ]
    },
    {
      "cell_type": "code",
      "execution_count": null,
      "metadata": {
        "collapsed": false
      },
      "outputs": [],
      "source": [
        "mss = interpolator.bivariate(\n    coords=dict(lon=mx.flatten(), lat=my.flatten())).reshape(mx.shape)"
      ]
    },
    {
      "cell_type": "markdown",
      "metadata": {},
      "source": [
        "Let\\'s visualize the original grid and the result of the interpolation.\r\n"
      ]
    },
    {
      "cell_type": "code",
      "execution_count": null,
      "metadata": {
        "collapsed": false
      },
      "outputs": [],
      "source": [
        "fig = matplotlib.pyplot.figure(figsize=(10, 8))\nfig.patch.set_alpha(0.0)\nax1 = fig.add_subplot(\n    211, projection=cartopy.crs.PlateCarree(central_longitude=180))\nlons, lats = numpy.meshgrid(ds.lon, ds.lat, indexing='ij')\npcm = ax1.pcolormesh(lons,\n                     lats,\n                     ds.mss.T,\n                     cmap='jet',\n                     transform=cartopy.crs.PlateCarree(),\n                     vmin=-0.1,\n                     vmax=0.1)\nax1.coastlines()\nax1.set_title(\"Original MSS\")\nax2 = fig.add_subplot(212, projection=cartopy.crs.PlateCarree())\npcm = ax2.pcolormesh(mx,\n                     my,\n                     mss,\n                     cmap='jet',\n                     transform=cartopy.crs.PlateCarree(),\n                     vmin=-0.1,\n                     vmax=0.1)\nax2.coastlines()\nax2.set_title(\"Bilinear Interpolated MSS\")\nfig.colorbar(pcm, ax=[ax1, ax2], shrink=0.8)\nfig.show()"
      ]
    },
    {
      "cell_type": "markdown",
      "metadata": {},
      "source": [
        "Values can be interpolated with several methods: *bilinear*, *nearest*,\r\nand *inverse distance weighting*. Distance calculations, if necessary,\r\nare calculated using the [Haversine\r\nformula](https://en.wikipedia.org/wiki/Haversine_formula).\r\n\r\n# Bicubic\r\n\r\nTo interpolate data points on a regular two-dimensional grid. The\r\ninterpolated surface is smoother than the corresponding surfaces\r\nobtained by bilinear interpolation. Spline functions provided by\r\n[GSL](https://www.gnu.org/software/gsl/) achieve bicubic interpolation.\r\n\r\n::: {.warning}\r\n::: {.title}\r\nWarning\r\n:::\r\n\r\nWhen using this interpolator, pay attention to the undefined values.\r\nBecause as long as the calculation window uses an indefinite point, the\r\ninterpolator will compute indeterminate values. In other words, this\r\ninterpolator increases the area covered by the masked values. To avoid\r\nthis behavior, it is necessary to\r\n`pre-process <fill_values>`{.interpreted-text role=\"ref\"} the grid to\r\ndelete undefined values.\r\n:::\r\n\r\nThe interpolation\r\n:py`bicubic <pyinterp.backends.xarray.Grid2D.bicubic>`{.interpreted-text\r\nrole=\"meth\"} function has more parameters to define the data frame used\r\nby the spline functions and how to process the edges of the regional\r\ngrids:\r\n"
      ]
    },
    {
      "cell_type": "code",
      "execution_count": null,
      "metadata": {
        "collapsed": false
      },
      "outputs": [],
      "source": [
        "mss = interpolator.bicubic(coords=dict(lon=mx.flatten(), lat=my.flatten()),\n                           nx=3,\n                           ny=3).reshape(mx.shape)"
      ]
    },
    {
      "cell_type": "markdown",
      "metadata": {},
      "source": [
        "::: {.warning}\r\n::: {.title}\r\nWarning\r\n:::\r\n\r\nThe grid provided must have strictly increasing axes to meet the\r\nspecifications of the GSL library. When building the grid, specify the\r\n`increasing_axes` option to flip the decreasing axes and the grid\r\nautomatically. For example:\r\n\r\n``` {.python}\r\ninterpolator = pyinterp.backends.xarray.Grid2D(\r\n    ds.mss, increasing_axes=True)\r\n```\r\n:::\r\n"
      ]
    },
    {
      "cell_type": "code",
      "execution_count": null,
      "metadata": {
        "collapsed": false
      },
      "outputs": [],
      "source": [
        "fig = matplotlib.pyplot.figure(figsize=(10, 8))\nfig.patch.set_alpha(0.0)\nax1 = fig.add_subplot(\n    211, projection=cartopy.crs.PlateCarree(central_longitude=180))\npcm = ax1.pcolormesh(lons,\n                     lats,\n                     ds.mss.T,\n                     cmap='jet',\n                     transform=cartopy.crs.PlateCarree(),\n                     vmin=-0.1,\n                     vmax=0.1)\nax1.coastlines()\nax1.set_title(\"Original MSS\")\nax2 = fig.add_subplot(212, projection=cartopy.crs.PlateCarree())\npcm = ax2.pcolormesh(mx,\n                     my,\n                     mss,\n                     cmap='jet',\n                     transform=cartopy.crs.PlateCarree(),\n                     vmin=-0.1,\n                     vmax=0.1)\nax2.coastlines()\nax2.set_title(\"Bicubic Interpolated MSS\")\nfig.colorbar(pcm, ax=[ax1, ax2], shrink=0.8)\nfig.show()"
      ]
    }
  ],
  "metadata": {
    "kernelspec": {
      "display_name": "Python 3",
      "language": "python",
      "name": "python3"
    },
    "language_info": {
      "codemirror_mode": {
        "name": "ipython",
        "version": 3
      },
      "file_extension": ".py",
      "mimetype": "text/x-python",
      "name": "python",
      "nbconvert_exporter": "python",
      "pygments_lexer": "ipython3",
      "version": "3.6.7"
    }
  },
  "nbformat": 4,
  "nbformat_minor": 0
}