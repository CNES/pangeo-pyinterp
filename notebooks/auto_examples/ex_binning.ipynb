{
  "cells": [
    {
      "cell_type": "code",
      "execution_count": null,
      "metadata": {
        "collapsed": false
      },
      "outputs": [],
      "source": [
        "%matplotlib inline"
      ]
    },
    {
      "cell_type": "markdown",
      "metadata": {},
      "source": [
        "# Binning\r\n\r\nStatistical data binning is a way to group several more or less\r\ncontinuous values into a smaller number of *bins*. For example, if you\r\nhave irregularly distributed data over the oceans, you can organize\r\nthese observations into a lower number of geographical intervals (for\r\nexample, by grouping them all five degrees into latitudes and\r\nlongitudes).\r\n\r\nIn this example, we will calculate drifter velocity statistics on the\r\nBlack Sea over a period of 9 years.\r\n"
      ]
    },
    {
      "cell_type": "code",
      "execution_count": null,
      "metadata": {
        "collapsed": false
      },
      "outputs": [],
      "source": [
        "import os\nimport pathlib\nimport cartopy.crs\nimport matplotlib\nimport matplotlib.pyplot\nimport numpy\nimport pyinterp\nimport pyinterp.backends.xarray\nimport xarray\n\nDATASET = pathlib.Path(os.environ['DATASET'])\nAOML = DATASET.joinpath(\"aoml_v2019.nc\")"
      ]
    },
    {
      "cell_type": "markdown",
      "metadata": {},
      "source": [
        "The first step is to load the data into memory and create the\r\ninterpolator object:\r\n"
      ]
    },
    {
      "cell_type": "code",
      "execution_count": null,
      "metadata": {
        "collapsed": false
      },
      "outputs": [],
      "source": [
        "ds = xarray.open_dataset(AOML)"
      ]
    },
    {
      "cell_type": "markdown",
      "metadata": {},
      "source": [
        "Let\\'s start by calculating the standard for vectors u and v.\r\n"
      ]
    },
    {
      "cell_type": "code",
      "execution_count": null,
      "metadata": {
        "collapsed": false
      },
      "outputs": [],
      "source": [
        "norm = (ds.ud**2 + ds.vd**2)**0.5"
      ]
    },
    {
      "cell_type": "markdown",
      "metadata": {},
      "source": [
        "Now, we will describe the grid used to calculate our :py`binned\r\n<pyinterp.Binning2D>`{.interpreted-text role=\"class\"} statics.\r\n"
      ]
    },
    {
      "cell_type": "code",
      "execution_count": null,
      "metadata": {
        "collapsed": false
      },
      "outputs": [],
      "source": [
        "binning = pyinterp.Binning2D(\n    pyinterp.Axis(numpy.arange(27, 42, 0.3), is_circle=True),\n    pyinterp.Axis(numpy.arange(40, 47, 0.3)))\nbinning"
      ]
    },
    {
      "cell_type": "markdown",
      "metadata": {},
      "source": [
        "We push the loaded data into the different defined bins using `simple\r\nbinning <bilinear_binning>`{.interpreted-text role=\"ref\"}.\r\n"
      ]
    },
    {
      "cell_type": "code",
      "execution_count": null,
      "metadata": {
        "collapsed": false
      },
      "outputs": [],
      "source": [
        "binning.clear()\nbinning.push(ds.lon, ds.lat, norm, True)"
      ]
    },
    {
      "cell_type": "markdown",
      "metadata": {},
      "source": [
        "It is possible to retrieve other statistical :py`variables\r\n<pyinterp.Binning2D.variable>`{.interpreted-text role=\"meth\"} such as\r\nvariance, minimum, maximum, etc.\r\n"
      ]
    },
    {
      "cell_type": "code",
      "execution_count": null,
      "metadata": {
        "collapsed": false
      },
      "outputs": [],
      "source": [
        "nearest = binning.variable('mean')"
      ]
    },
    {
      "cell_type": "markdown",
      "metadata": {},
      "source": [
        "Then, we push the loaded data into the different defined bins using\r\n`linear binning <bilinear_binning>`{.interpreted-text role=\"ref\"}.\r\n"
      ]
    },
    {
      "cell_type": "code",
      "execution_count": null,
      "metadata": {
        "collapsed": false
      },
      "outputs": [],
      "source": [
        "binning.clear()\nbinning.push(ds.lon, ds.lat, norm, False)\nlinear = binning.variable('mean')"
      ]
    },
    {
      "cell_type": "markdown",
      "metadata": {},
      "source": [
        "We visualize our result\r\n"
      ]
    },
    {
      "cell_type": "code",
      "execution_count": null,
      "metadata": {
        "collapsed": false
      },
      "outputs": [],
      "source": [
        "fig = matplotlib.pyplot.figure(figsize=(10, 8))\nfig.patch.set_alpha(0.0)\nax1 = fig.add_subplot(211, projection=cartopy.crs.PlateCarree())\nlon, lat = numpy.meshgrid(binning.x, binning.y, indexing='ij')\npcm = ax1.pcolormesh(lon,\n                     lat,\n                     nearest,\n                     cmap='jet',\n                     vmin=0,\n                     vmax=1,\n                     transform=cartopy.crs.PlateCarree())\nax1.coastlines()\nax1.set_title(\"Simple binning.\")\n\nax2 = fig.add_subplot(212, projection=cartopy.crs.PlateCarree())\nlon, lat = numpy.meshgrid(binning.x, binning.y, indexing='ij')\npcm = ax2.pcolormesh(lon,\n                     lat,\n                     linear,\n                     cmap='jet',\n                     vmin=0,\n                     vmax=1,\n                     transform=cartopy.crs.PlateCarree())\nax2.coastlines()\nax2.set_title(\"Linear binning.\")\nfig.colorbar(pcm, ax=[ax1, ax2], shrink=0.8)\nfig.show()"
      ]
    }
  ],
  "metadata": {
    "kernelspec": {
      "display_name": "Python 3",
      "language": "python",
      "name": "python3"
    },
    "language_info": {
      "codemirror_mode": {
        "name": "ipython",
        "version": 3
      },
      "file_extension": ".py",
      "mimetype": "text/x-python",
      "name": "python",
      "nbconvert_exporter": "python",
      "pygments_lexer": "ipython3",
      "version": "3.6.7"
    }
  },
  "nbformat": 4,
  "nbformat_minor": 0
}