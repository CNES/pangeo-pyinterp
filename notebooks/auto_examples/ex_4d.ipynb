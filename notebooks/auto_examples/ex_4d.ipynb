{
  "cells": [
    {
      "cell_type": "code",
      "execution_count": null,
      "metadata": {
        "collapsed": false
      },
      "outputs": [],
      "source": [
        "%matplotlib inline"
      ]
    },
    {
      "cell_type": "markdown",
      "metadata": {},
      "source": [
        "4D interpolation\n================\n\nInterpolation of a four-dimensional regular grid.\n\nQuadrivariate\n-------------\n\nThe :py`quadrivariate <pyinterp.quadrivariate>`{.interpreted-text\nrole=\"func\"} interpolation allows obtaining values at arbitrary points\nin a 4D space of a function defined on a grid.\n\nThe distribution contains a 4D field `pres_temp_4D.nc` that will be used\nin this help. This file is located in the `tests/dataset` directory at\nthe root of the project.\n\nThis method performs a bilinear interpolation in 2D space by considering\nthe axes of longitude and latitude of the grid, then performs a linear\ninterpolation in the third and fourth dimensions. Its interface is\nsimilar to the :py`trivariate <pyinterp.trivariate>`{.interpreted-text\nrole=\"func\"} class except for a fourth axis, which is handled by this\nobject.\n"
      ]
    },
    {
      "cell_type": "code",
      "execution_count": null,
      "metadata": {
        "collapsed": false
      },
      "outputs": [],
      "source": [
        "import os\nimport pathlib\nimport cartopy.crs\nimport matplotlib\nimport matplotlib.pyplot\nimport numpy\nimport pyinterp\nimport pyinterp.backends.xarray\nimport xarray\n\ntry:\n    # When generating the documentation the variable DATASET points to the data\n    # path.\n    DATASET = pathlib.Path(os.environ['DATASET'])\nexcept KeyError:\n    # Otherwise, the relative folder path is used.\n    DATASET = pathlib.Path(\"..\", \"..\", \"tests\", \"dataset\")\nPRES_TEMP = DATASET.joinpath(\"pres_temp_4D.nc\")"
      ]
    },
    {
      "cell_type": "markdown",
      "metadata": {},
      "source": [
        "The first step is to load the data into memory and create the\ninterpolator object:\n"
      ]
    },
    {
      "cell_type": "code",
      "execution_count": null,
      "metadata": {
        "collapsed": false
      },
      "outputs": [],
      "source": [
        "ds = xarray.open_dataset(PRES_TEMP)\ninterpolator = pyinterp.backends.xarray.Grid4D(ds.pressure)"
      ]
    },
    {
      "cell_type": "markdown",
      "metadata": {},
      "source": [
        "We will build a new grid that will be used to build a new interpolated\ngrid.\n"
      ]
    },
    {
      "cell_type": "code",
      "execution_count": null,
      "metadata": {
        "collapsed": false
      },
      "outputs": [],
      "source": [
        "mx, my, mz, mu = numpy.meshgrid(numpy.arange(-125, -70, 0.5),\n                                numpy.arange(25, 50, 0.5),\n                                numpy.datetime64(\"2000-01-01T12:00\"),\n                                0.5,\n                                indexing=\"ij\")"
      ]
    },
    {
      "cell_type": "markdown",
      "metadata": {},
      "source": [
        "We interpolate our grid using a :py`classical\n<pyinterp.backends.xarray.Grid4D.quadrivariate>`{.interpreted-text\nrole=\"meth\"}:\n"
      ]
    },
    {
      "cell_type": "code",
      "execution_count": null,
      "metadata": {
        "collapsed": false
      },
      "outputs": [],
      "source": [
        "quadrivariate = interpolator.quadrivariate(\n    dict(longitude=mx.flatten(),\n         latitude=my.flatten(),\n         time=mz.flatten(),\n         level=mu.flatten())).reshape(mx.shape)"
      ]
    },
    {
      "cell_type": "markdown",
      "metadata": {},
      "source": [
        "Bicubic on 4D grid\n==================\n\nThe grid used organizes the latitudes in descending order. We ask our\nconstructor to flip this axis in order to correctly evaluate the bicubic\ninterpolation from this 4D cube (only necessary to perform a bicubic\ninterpolation).\n"
      ]
    },
    {
      "cell_type": "code",
      "execution_count": null,
      "metadata": {
        "collapsed": false
      },
      "outputs": [],
      "source": [
        "interpolator = pyinterp.backends.xarray.Grid4D(ds.pressure,\n                                               increasing_axes=True)"
      ]
    },
    {
      "cell_type": "markdown",
      "metadata": {},
      "source": [
        "We interpolate our grid using a :py`bicubic\n<pyinterp.backends.xarray.Grid4D.bicubic>`{.interpreted-text\nrole=\"meth\"} interpolation in space followed by a linear interpolation\nin the temporal axis:\n"
      ]
    },
    {
      "cell_type": "code",
      "execution_count": null,
      "metadata": {
        "collapsed": false
      },
      "outputs": [],
      "source": [
        "bicubic = interpolator.bicubic(dict(longitude=mx.flatten(),\n                                    latitude=my.flatten(),\n                                    time=mz.flatten(),\n                                    level=mu.flatten()),\n                               nx=2,\n                               ny=2).reshape(mx.shape)"
      ]
    },
    {
      "cell_type": "markdown",
      "metadata": {},
      "source": [
        "We transform our result cubes into a matrix.\n"
      ]
    },
    {
      "cell_type": "code",
      "execution_count": null,
      "metadata": {
        "collapsed": false
      },
      "outputs": [],
      "source": [
        "quadrivariate = quadrivariate.squeeze(axis=(2, 3))\nbicubic = bicubic.squeeze(axis=(2, 3))\nlons = mx[:, 0].squeeze()\nlats = my[0, :].squeeze()"
      ]
    },
    {
      "cell_type": "markdown",
      "metadata": {},
      "source": [
        "Let\\'s visualize our results.\n\n::: {.note}\n::: {.title}\nNote\n:::\n\nThe resolution of the example grid is very low (one pixel every one\ndegree) therefore the calculation window cannot find the required pixels\nat the edges to calculate the interpolation correctly. See Chapter\n`ex_fill_undef`{.interpreted-text role=\"doc\"} to see how to address this\nissue.\n:::\n"
      ]
    },
    {
      "cell_type": "code",
      "execution_count": null,
      "metadata": {
        "collapsed": false
      },
      "outputs": [],
      "source": [
        "fig = matplotlib.pyplot.figure(figsize=(5, 4))\nfig.patch.set_alpha(0.0)\nax1 = fig.add_subplot(\n    211, projection=cartopy.crs.PlateCarree(central_longitude=180))\npcm = ax1.pcolormesh(lons,\n                     lats,\n                     quadrivariate.T,\n                     cmap='jet',\n                     transform=cartopy.crs.PlateCarree())\nax1.coastlines()\nax1.set_title(\"Trilinear\")\n\nax2 = fig.add_subplot(\n    212, projection=cartopy.crs.PlateCarree(central_longitude=180))\npcm = ax2.pcolormesh(lons,\n                     lats,\n                     bicubic.T,\n                     cmap='jet',\n                     transform=cartopy.crs.PlateCarree())\nax2.coastlines()\nax2.set_title(\"Spline & Linear in time\")\nfig.colorbar(pcm, ax=[ax1, ax2], shrink=0.8)\nfig.show()"
      ]
    }
  ],
  "metadata": {
    "kernelspec": {
      "display_name": "Python 3",
      "language": "python",
      "name": "python3"
    },
    "language_info": {
      "codemirror_mode": {
        "name": "ipython",
        "version": 3
      },
      "file_extension": ".py",
      "mimetype": "text/x-python",
      "name": "python",
      "nbconvert_exporter": "python",
      "pygments_lexer": "ipython3",
      "version": "3.7.10"
    }
  },
  "nbformat": 4,
  "nbformat_minor": 0
}