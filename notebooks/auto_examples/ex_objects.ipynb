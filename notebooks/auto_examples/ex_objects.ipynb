{
  "cells": [
    {
      "cell_type": "code",
      "execution_count": null,
      "metadata": {
        "collapsed": false
      },
      "outputs": [],
      "source": [
        "%matplotlib inline"
      ]
    },
    {
      "cell_type": "markdown",
      "metadata": {},
      "source": [
        "# Create interpolator objects\r\n\r\nIn this example, we are going to build the basic objects allowing to\r\ncarry out interpolations.\r\n\r\nBefore starting, we will examine the properties of a Cartesian grid and\r\nthe different classes associated with these objects.\r\n\r\nThe first step is to open the NetCDF file and load the data. We use here\r\nthe NetCDF4 library to detail the different steps, but we will see that\r\nwe can automate the steps described below using the xarray objects\r\nlibrary.\r\n\r\n## Step-by-step creation of grids\r\n"
      ]
    },
    {
      "cell_type": "code",
      "execution_count": null,
      "metadata": {
        "collapsed": false
      },
      "outputs": [],
      "source": [
        "import os\nimport timeit\nimport pathlib\nimport netCDF4\nimport pandas\nimport pyinterp\nimport pyinterp.backends.xarray\nimport numpy\nimport xarray\n\nDATASET = pathlib.Path(os.environ['DATASET'])\n\nTCW = DATASET.joinpath(\"tcw.nc\")\nwith netCDF4.Dataset(TCW) as ds:\n    lon, lat, time, time_units, tcw = ds.variables[\n        \"longitude\"][:], ds.variables[\"latitude\"][:], ds.variables[\n            \"time\"][:], ds.variables[\"time\"].units, ds.variables[\"tcw\"][:]\n    time = numpy.array(netCDF4.num2date(time, time_units),\n                       dtype=\"datetime64[us]\")"
      ]
    },
    {
      "cell_type": "markdown",
      "metadata": {},
      "source": [
        "This regular 3-dimensional grid is associated with three axes:\r\n\r\n-   longitudes,\r\n-   latitudes and\r\n-   time.\r\n\r\nTo perform the calculations quickly, we will build three objects that\r\nwill be used by the interpolator to search for the data to be used.\r\nLet\\'s start with the y-axis representing the latitude axis.\r\n"
      ]
    },
    {
      "cell_type": "code",
      "execution_count": null,
      "metadata": {
        "collapsed": false
      },
      "outputs": [],
      "source": [
        "y_axis = pyinterp.Axis(lat)\ny_axis"
      ]
    },
    {
      "cell_type": "markdown",
      "metadata": {},
      "source": [
        "For example, you can search for the closest point to 0.12 degrees north\r\nlatitude.\r\n"
      ]
    },
    {
      "cell_type": "code",
      "execution_count": null,
      "metadata": {
        "collapsed": false
      },
      "outputs": [],
      "source": [
        "y_axis.find_index([0.12])"
      ]
    },
    {
      "cell_type": "markdown",
      "metadata": {},
      "source": [
        "Then, the x-axis representing the longitudinal axis. In this case, the\r\naxis is an axis representing a 360 degree circle.\r\n"
      ]
    },
    {
      "cell_type": "code",
      "execution_count": null,
      "metadata": {
        "collapsed": false
      },
      "outputs": [],
      "source": [
        "x_axis = pyinterp.Axis(lon, is_circle=True)\nx_axis"
      ]
    },
    {
      "cell_type": "markdown",
      "metadata": {},
      "source": [
        "The values -180 and 180 degrees represent the same point on the axis.\r\n"
      ]
    },
    {
      "cell_type": "code",
      "execution_count": null,
      "metadata": {
        "collapsed": false
      },
      "outputs": [],
      "source": [
        "x_axis.find_index([-180]) == x_axis.find_index([180])"
      ]
    },
    {
      "cell_type": "markdown",
      "metadata": {},
      "source": [
        "Finally, we create the time axis\r\n"
      ]
    },
    {
      "cell_type": "code",
      "execution_count": null,
      "metadata": {
        "collapsed": false
      },
      "outputs": [],
      "source": [
        "t_axis = pyinterp.TemporalAxis(time)\nt_axis"
      ]
    },
    {
      "cell_type": "markdown",
      "metadata": {},
      "source": [
        "As these objects must communicate in C++ memory space, we use objects\r\nspecific to the library much faster than other data models and manage\r\nthe axes representing a circle. For example if we compare these objects\r\nto Pandas indexes:\r\n"
      ]
    },
    {
      "cell_type": "code",
      "execution_count": null,
      "metadata": {
        "collapsed": false
      },
      "outputs": [],
      "source": [
        "values = lon[10:20] + 1 / 3\nindex = pandas.Index(lon)\nprint(\"pandas.Index: %f\" % timeit.timeit(\n    \"index.searchsorted(values)\", globals=dict(index=index, values=values)))\nprint(\"pyinterp.Axis %f\" % timeit.timeit(\n    \"x_axis.find_index(values)\", globals=dict(x_axis=x_axis, values=values)))"
      ]
    },
    {
      "cell_type": "markdown",
      "metadata": {},
      "source": [
        "This time axis is also very efficient compared to the pandas index.\r\n"
      ]
    },
    {
      "cell_type": "code",
      "execution_count": null,
      "metadata": {
        "collapsed": false
      },
      "outputs": [],
      "source": [
        "index = pandas.Index(time)\nvalues = time + numpy.timedelta64(1, \"ns\")\nprint(\"pandas.Index: %f\" % timeit.timeit(\n    \"index.searchsorted(values)\", globals=dict(index=index, values=values)))\nprint(\"pyinterp.Axis %f\" % timeit.timeit(\n    \"t_axis.find_index(values)\", globals=dict(t_axis=t_axis, values=values)))"
      ]
    },
    {
      "cell_type": "markdown",
      "metadata": {},
      "source": [
        "Before constructing the tensor for pyinterp, we must begin to organize\r\nthe tensor data so that it is properly stored in memory for pyinterp.\r\n"
      ]
    },
    {
      "cell_type": "markdown",
      "metadata": {},
      "source": [
        "-   The shape of the tensor must be (len(x_axis), len(y_axis),\r\n    len(t_axis))\r\n"
      ]
    },
    {
      "cell_type": "code",
      "execution_count": null,
      "metadata": {
        "collapsed": false
      },
      "outputs": [],
      "source": [
        "tcw = tcw.T"
      ]
    },
    {
      "cell_type": "markdown",
      "metadata": {},
      "source": [
        "-   The undefined values must be set to nan.\r\n"
      ]
    },
    {
      "cell_type": "code",
      "execution_count": null,
      "metadata": {
        "collapsed": false
      },
      "outputs": [],
      "source": [
        "tcw[tcw.mask] = float(\"nan\")"
      ]
    },
    {
      "cell_type": "markdown",
      "metadata": {},
      "source": [
        "Now we can build the object handling the regular 3-dimensional grid.\r\n\r\n::: {.note}\r\n::: {.title}\r\nNote\r\n:::\r\n\r\nGrid data are not copied, the Grid3D class just keeps a reference on the\r\nhandled array. Axis data are copied for non-uniform axes, and only\r\nexamined for regular axes.\r\n:::\r\n"
      ]
    },
    {
      "cell_type": "code",
      "execution_count": null,
      "metadata": {
        "collapsed": false
      },
      "outputs": [],
      "source": [
        "grid_3d = pyinterp.Grid3D(x_axis, y_axis, t_axis, tcw)\ngrid_3d"
      ]
    },
    {
      "cell_type": "markdown",
      "metadata": {},
      "source": [
        "# xarray backend\r\n\r\nThe construction of these objects manipulating the :py`regular grids\r\n<pyinterp.backends.xarray.RegularGridInterpolator>`{.interpreted-text\r\nrole=\"class\"} can be done more easily using the\r\n[xarray](http://xarray.pydata.org/) library and\r\n[CF](https://cfconventions.org/) convention usually found in NetCDF\r\nfiles.\r\n"
      ]
    },
    {
      "cell_type": "code",
      "execution_count": null,
      "metadata": {
        "collapsed": false
      },
      "outputs": [],
      "source": [
        "interpolator = pyinterp.backends.xarray.RegularGridInterpolator(\n    xarray.open_dataset(TCW).tcw)\ninterpolator.grid"
      ]
    }
  ],
  "metadata": {
    "kernelspec": {
      "display_name": "Python 3",
      "language": "python",
      "name": "python3"
    },
    "language_info": {
      "codemirror_mode": {
        "name": "ipython",
        "version": 3
      },
      "file_extension": ".py",
      "mimetype": "text/x-python",
      "name": "python",
      "nbconvert_exporter": "python",
      "pygments_lexer": "ipython3",
      "version": "3.6.7"
    }
  },
  "nbformat": 4,
  "nbformat_minor": 0
}