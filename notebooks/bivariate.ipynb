{
 "cells": [
  {
   "cell_type": "markdown",
   "metadata": {},
   "source": [
    "# Bivariate interpolation\n",
    "\n",
    "Perform a bivariate interpolation of gridded data points.\n",
    "\n",
    "For this test, we will use the 2D field that defines the average sea surface.\n",
    "\n",
    "---\n",
    "**Warning**\n",
    "\n",
    "The file `../tests/dataset/mss.nc` is an old version of the subsampled version of the\n",
    "Mean Sea Surface Height distributed by CNES/CLS. Do not use it for scientific purposes,\n",
    "download the latest updated high-resolution version instead [here](https://www.aviso.altimetry.fr/en/data/products/auxiliary-products/mss.html).\n",
    "\n",
    "---"
   ]
  },
  {
   "cell_type": "code",
   "execution_count": null,
   "metadata": {},
   "outputs": [],
   "source": [
    "import netCDF4\n",
    "\n",
    "ds = netCDF4.Dataset(\"../tests/dataset/mss.nc\")\n",
    "lon = ds.variables[\"lon\"]\n",
    "lat = ds.variables[\"lat\"]\n",
    "var = ds.variables[\"mss\"]"
   ]
  },
  {
   "cell_type": "markdown",
   "metadata": {},
   "source": [
    "Now that the data is loaded into memory, we will build the objects that will manipulate the axes of this regular grid. These axes will be used to locate the different pixels on the regular grid as shown in the figure below.\n",
    "\n",
    "<img src=\"map.svg\" alt=\"Drawing\" align=\"middle\" style=\"width: 100%;\"/>\n",
    "\n",
    "We start the construction of the X [axis](https://pangeo-pyinterp.readthedocs.io/en/latest/api/pyinterp.core.html#pyinterp.core.Axis), representing in our case the longitudes of the grid. When instantiating the object, this axis is specified as a circle."
   ]
  },
  {
   "cell_type": "code",
   "execution_count": null,
   "metadata": {},
   "outputs": [],
   "source": [
    "import pyinterp\n",
    "\n",
    "x_axis = pyinterp.Axis(lon[:], is_circle=True)\n",
    "x_axis"
   ]
  },
  {
   "cell_type": "markdown",
   "metadata": {},
   "source": [
    "Finally, we instantiate the Y axis, representing in our case the latitudes."
   ]
  },
  {
   "cell_type": "code",
   "execution_count": null,
   "metadata": {},
   "outputs": [],
   "source": [
    "y_axis = pyinterp.Axis(lat[:])\n",
    "y_axis"
   ]
  },
  {
   "cell_type": "markdown",
   "metadata": {},
   "source": [
    "In order to build, the object handling this grid, we will alter the matrix to be shaped as `mss(x-axis, y-axis)` and to set the undefined values to `NaN`."
   ]
  },
  {
   "cell_type": "code",
   "execution_count": null,
   "metadata": {},
   "outputs": [],
   "source": [
    "mss = var[:].T\n",
    "mss[mss.mask] = float(\"nan\")"
   ]
  },
  {
   "cell_type": "markdown",
   "metadata": {},
   "source": [
    "Finally, we can build the final object handling our [grid](https://pangeo-pyinterp.readthedocs.io/en/latest/api/pyinterp.grid.html#pyinterp.grid.Grid2D)."
   ]
  },
  {
   "cell_type": "code",
   "execution_count": null,
   "metadata": {},
   "outputs": [],
   "source": [
    "grid = pyinterp.Grid2D(x_axis, y_axis, mss.data)\n",
    "grid"
   ]
  },
  {
   "cell_type": "markdown",
   "metadata": {},
   "source": [
    "We will build a new grid that will be used to build a new interpolated grid."
   ]
  },
  {
   "cell_type": "code",
   "execution_count": null,
   "metadata": {},
   "outputs": [],
   "source": [
    "import numpy as np\n",
    "\n",
    "# The coordinates used for interpolation are shifted to avoid using the\n",
    "# points of the bivariate function.\n",
    "mx, my = np.meshgrid(np.arange(-180, 180, 1) + 1 / 3.0,\n",
    "                     np.arange(-89, 89, 1) + 1 / 3.0,\n",
    "                     indexing='ij')"
   ]
  },
  {
   "cell_type": "markdown",
   "metadata": {},
   "source": [
    "The original grid is [interpolated](https://pangeo-pyinterp.readthedocs.io/en/latest/api/pyinterp.bivariate.html#pyinterp.bivariate.bivariate) to the target grid using the default setting (bilinear interpolation).\n",
    "\n",
    "Values can be interpolated with several methods: `bilinear`, `nearest`, and `inverse distance weighting`. Distance calculations, if necessary, are calculated using the [Haversine formula](https://en.wikipedia.org/wiki/Haversine_formula)."
   ]
  },
  {
   "cell_type": "code",
   "execution_count": null,
   "metadata": {},
   "outputs": [],
   "source": [
    "interpolated_mss = pyinterp.bivariate(\n",
    "    grid, mx.flatten(), my.flatten()).reshape(mx.shape)"
   ]
  },
  {
   "cell_type": "markdown",
   "metadata": {},
   "source": [
    "Let's visualize the original grid and the result of the interpolation."
   ]
  },
  {
   "cell_type": "code",
   "execution_count": null,
   "metadata": {},
   "outputs": [],
   "source": [
    "import matplotlib.pyplot as plt\n",
    "import cartopy.crs as ccrs\n",
    "%matplotlib inline\n",
    "\n",
    "fig = plt.figure(figsize=(18, 9))\n",
    "ax = fig.add_subplot(121, projection=ccrs.PlateCarree(central_longitude=180))\n",
    "lons, lats = np.meshgrid(grid.x, grid.y, indexing='ij')\n",
    "ax.pcolormesh(lons, lats, grid.array, cmap='jet',\n",
    "              transform=ccrs.PlateCarree())\n",
    "ax.coastlines()\n",
    "ax.set_title(\"Original MSS\")\n",
    "\n",
    "ax = fig.add_subplot(122, projection=ccrs.PlateCarree())\n",
    "ax.pcolormesh(mx, my, interpolated_mss, cmap='jet',\n",
    "              transform=ccrs.PlateCarree())\n",
    "ax.coastlines()\n",
    "ax.set_title(\"Interpolated MSS\")"
   ]
  },
  {
   "cell_type": "markdown",
   "metadata": {},
   "source": [
    "## xarray support\n",
    "\n",
    "\n",
    "An experimental [module](https://pangeo-pyinterp.readthedocs.io/en/latest/api/pyinterp.backends.xarray.html) of the library simplifies the use of the library by using [xarray](http://xarray.pydata.org/en/stable/) and [CF](http://cfconventions.org/) information contained in dataset. Indeed, this function will automatically determine which axis represents the longitude, latitude and ensure that the processed matrix has the right shape. This allows the interpolator to be created much faster.\n",
    "\n",
    "---\n",
    "\n",
    "**Note**\n",
    "\n",
    "An exception will be thrown, if the constructor is not able to determine which axes are the longitudes and latitudes.  You can force the data to be read by specifying on the longitude and latitude axes the respective `degrees_east` and `degrees_north` attribute `units`. If your grid does not contain geodetic coordinates, set the `geodetic` option of the constructor to `False`\n",
    "\n",
    "---"
   ]
  },
  {
   "cell_type": "code",
   "execution_count": null,
   "metadata": {},
   "outputs": [],
   "source": [
    "import pyinterp.backends.xarray\n",
    "import xarray as xr\n",
    "\n",
    "ds = xr.load_dataset(\"../tests/dataset/mss.nc\")\n",
    "interpolator = pyinterp.backends.xarray.Grid2D(ds.data_vars[\"mss\"], geodetic=True)\n",
    "interpolator"
   ]
  },
  {
   "cell_type": "markdown",
   "metadata": {},
   "source": [
    "This class allows access to all 2D interpolators using the [bivariate method](https://pangeo-pyinterp.readthedocs.io/en/latest/api/pyinterp.backends.xarray.html#pyinterp.backends.xarray.Grid2D.bivariate)."
   ]
  },
  {
   "cell_type": "code",
   "execution_count": null,
   "metadata": {},
   "outputs": [],
   "source": [
    "mss = interpolator.bivariate(dict(lon=mx.flatten(), lat=my.flatten()))"
   ]
  }
 ],
 "metadata": {
  "kernelspec": {
   "display_name": "Python 3",
   "language": "python",
   "name": "python3"
  },
  "language_info": {
   "codemirror_mode": {
    "name": "ipython",
    "version": 3
   },
   "file_extension": ".py",
   "mimetype": "text/x-python",
   "name": "python",
   "nbconvert_exporter": "python",
   "pygments_lexer": "ipython3",
   "version": "3.7.5"
  }
 },
 "nbformat": 4,
 "nbformat_minor": 2
}
