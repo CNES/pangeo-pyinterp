{
 "cells": [
  {
   "cell_type": "markdown",
   "metadata": {},
   "source": [
    "# Bicubic interpolation\n",
    "\n",
    "Interpolating data points on two-dimensional regular grid. The interpolated surface is smoother than the corresponding surfaces obtained by bilinear interpolation. Bicubic interpolation is achieved by spline functions provided by GSL.\n",
    "\n",
    "---\n",
    "**Warning**\n",
    "\n",
    "When using this interpolator, pay attention to the undefined values. Because as long as the calculation window uses an indefinite point, the interpolator will generate indefinite values. This means that this interpolator increases the area covered by the masked values. To avoid this behavior, it is necessary to [fill](https://pangeo-pyinterp.readthedocs.io/en/latest/api/pyinterp.fill.html) the grid to delete undefined values.\n",
    "\n",
    "---\n",
    "\n",
    "Let's start by building our interpolator:"
   ]
  },
  {
   "cell_type": "code",
   "execution_count": null,
   "metadata": {},
   "outputs": [],
   "source": [
    "import xarray as xr\n",
    "import pyinterp.backends.xarray as pxr\n",
    "\n",
    "ds = xr.load_dataset(\"../tests/dataset/mss.nc\")\n",
    "interpolator = pxr.Grid2D(ds.data_vars[\"mss\"])\n",
    "interpolator"
   ]
  },
  {
   "cell_type": "markdown",
   "metadata": {},
   "source": [
    "We will build a new grid that will be used to build a new interpolated grid."
   ]
  },
  {
   "cell_type": "code",
   "execution_count": null,
   "metadata": {},
   "outputs": [],
   "source": [
    "import numpy as np\n",
    "\n",
    "# The coordinates used for interpolation are shifted to avoid using the\n",
    "# points of the bivariate function.\n",
    "mx, my = np.meshgrid(np.arange(-180, 180, 1) + 1 / 3.0,\n",
    "                     np.arange(-89, 89, 1) + 1 / 3.0,\n",
    "                     indexing='ij')"
   ]
  },
  {
   "cell_type": "markdown",
   "metadata": {},
   "source": [
    "The [bicubic](https://pangeo-pyinterp.readthedocs.io/en/latest/api/pyinterp.bicubic.html#pyinterp.bicubic.bicubic) interpolation function has more parameters in order to define the data frame used by the spline functions and how to process the edges of the regional grids."
   ]
  },
  {
   "cell_type": "code",
   "execution_count": null,
   "metadata": {},
   "outputs": [],
   "source": [
    "mss = interpolator.bicubic(dict(lon=mx.flatten(), lat=my.flatten())).reshape(mx.shape)"
   ]
  },
  {
   "cell_type": "markdown",
   "metadata": {},
   "source": [
    "Let's visualize our result and the original grid."
   ]
  },
  {
   "cell_type": "code",
   "execution_count": null,
   "metadata": {},
   "outputs": [],
   "source": [
    "import matplotlib.pyplot as plt\n",
    "import cartopy.crs as ccrs\n",
    "%matplotlib inline\n",
    "\n",
    "fig = plt.figure(figsize=(18, 9))\n",
    "ax = fig.add_subplot(121, projection=ccrs.PlateCarree(central_longitude=180))\n",
    "lons, lats = np.meshgrid(interpolator.x, interpolator.y, indexing='ij')\n",
    "ax.pcolormesh(lons, lats, interpolator.array, cmap='jet',\n",
    "              transform=ccrs.PlateCarree())\n",
    "ax.coastlines()\n",
    "ax.set_title(\"Original MSS\")\n",
    "\n",
    "ax = fig.add_subplot(122, projection=ccrs.PlateCarree())\n",
    "ax.pcolormesh(mx, my, mss, cmap='jet',\n",
    "              transform=ccrs.PlateCarree())\n",
    "ax.coastlines()\n",
    "ax.set_title(\"Interpolated MSS\")"
   ]
  }
 ],
 "metadata": {
  "kernelspec": {
   "display_name": "Python 3",
   "language": "python",
   "name": "python3"
  },
  "language_info": {
   "codemirror_mode": {
    "name": "ipython",
    "version": 3
   },
   "file_extension": ".py",
   "mimetype": "text/x-python",
   "name": "python",
   "nbconvert_exporter": "python",
   "pygments_lexer": "ipython3",
   "version": "3.7.4"
  }
 },
 "nbformat": 4,
 "nbformat_minor": 2
}
