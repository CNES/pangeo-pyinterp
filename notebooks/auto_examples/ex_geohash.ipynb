{
 "cells": [
  {
   "cell_type": "code",
   "execution_count": null,
   "metadata": {},
   "outputs": [],
   "source": [
    "%matplotlib inline"
   ]
  },
  {
   "cell_type": "markdown",
   "metadata": {},
   "source": [
    "Geohash\n",
    "=======\n",
    "\n",
    "Geohashing is a geocoding method used to encode geographic coordinates\n",
    "(latitude and longitude) into a short string of digits and letters\n",
    "delineating an area on a map, which is called a cell, with varying\n",
    "resolutions. The more characters in the string, the more precise the\n",
    "location.\n",
    "\n",
    "Geohash Grid\n",
    "----------------"
   ]
  },
  {
   "cell_type": "code",
   "execution_count": null,
   "metadata": {},
   "outputs": [],
   "source": [
    "import timeit\n",
    "import cartopy.crs\n",
    "import matplotlib.colors\n",
    "import matplotlib.patches\n",
    "import matplotlib.pyplot\n",
    "import numpy\n",
    "import pandas\n",
    "#\n",
    "import pyinterp.geohash\n",
    "import pyinterp.geodetic"
   ]
  },
  {
   "cell_type": "markdown",
   "metadata": {},
   "source": [
    "Writing a visualization routine for GeoHash grids."
   ]
  },
  {
   "cell_type": "code",
   "execution_count": null,
   "metadata": {},
   "outputs": [],
   "source": [
    "def _sort_colors(colors):\n",
    "    \"\"\"Sort colors by hue, saturation, value and name in descending order\"\"\"\n",
    "    by_hsv = sorted(\n",
    "        (tuple(matplotlib.colors.rgb_to_hsv(matplotlib.colors.to_rgb(color))),\n",
    "         name) for name, color in colors.items())\n",
    "    return [name for hsv, name in reversed(by_hsv)]\n",
    "\n",
    "\n",
    "def _plot_box(ax, code, color, caption=True):\n",
    "    \"\"\"Plot a GeoHash bounding box\"\"\"\n",
    "    box = pyinterp.geohash.bounding_box(code)\n",
    "    x0 = box.min_corner.lon\n",
    "    x1 = box.max_corner.lon\n",
    "    y0 = box.min_corner.lat\n",
    "    y1 = box.max_corner.lat\n",
    "    dx = x1 - x0\n",
    "    dy = y1 - y0\n",
    "    box = matplotlib.patches.Rectangle((x0, y0),\n",
    "                                       dx,\n",
    "                                       dy,\n",
    "                                       alpha=0.5,\n",
    "                                       color=color,\n",
    "                                       ec=\"black\",\n",
    "                                       lw=1,\n",
    "                                       transform=cartopy.crs.PlateCarree())\n",
    "    ax.add_artist(box)\n",
    "    if not caption:\n",
    "        return\n",
    "    rx, ry = box.get_xy()\n",
    "    cx = rx + box.get_width() * 0.5\n",
    "    cy = ry + box.get_height() * 0.5\n",
    "    ax.annotate(code.decode(), (cx, cy),\n",
    "                color='w',\n",
    "                weight='bold',\n",
    "                fontsize=16,\n",
    "                ha='center',\n",
    "                va='center')\n",
    "\n",
    "\n",
    "def plot_geohash_grid(precision,\n",
    "                      points=None,\n",
    "                      box=None,\n",
    "                      color_list=None,\n",
    "                      inc=7):\n",
    "    \"\"\"Plot geohash bounding boxes\"\"\"\n",
    "    color_list = color_list or matplotlib.colors.CSS4_COLORS\n",
    "    fig = matplotlib.pyplot.figure(figsize=(24, 12))\n",
    "    ax = fig.add_subplot(1, 1, 1, projection=cartopy.crs.PlateCarree())\n",
    "    if box is not None:\n",
    "        ax.set_extent([\n",
    "            box.min_corner.lon, box.max_corner.lon, box.min_corner.lat,\n",
    "            box.max_corner.lat\n",
    "        ],\n",
    "                      crs=cartopy.crs.PlateCarree())\n",
    "    if points is not None:\n",
    "        xmin, xmax = points['lon'].min(), points['lon'].max()\n",
    "        ymin, ymax = points['lat'].min(), points['lat'].max()\n",
    "        if box is None:\n",
    "            ax.set_xlim((xmin - 4, xmax + 4))\n",
    "            ax.set_ylim((ymin - 4, ymax + 4))\n",
    "\n",
    "        ax.plot(points['lon'],\n",
    "                points['lat'],\n",
    "                color='black',\n",
    "                marker=\".\",\n",
    "                ls='',\n",
    "                ms='0.5',\n",
    "                transform=cartopy.crs.PlateCarree())\n",
    "    colors = _sort_colors(color_list)\n",
    "    ic = 0\n",
    "    codes = pyinterp.geohash.bounding_boxes(box, precision=precision)\n",
    "    color_codes = {codes[0][0]: colors[ic]}\n",
    "    for item in codes:\n",
    "        prefix = item[precision - 1]\n",
    "        if prefix not in color_codes:\n",
    "            ic += inc\n",
    "            color_codes[prefix] = colors[ic % len(colors)]\n",
    "        _plot_box(ax, item, color_codes[prefix], True)\n",
    "    ax.stock_img()\n",
    "    ax.coastlines()\n",
    "    ax.grid()"
   ]
  },
  {
   "cell_type": "markdown",
   "metadata": {},
   "source": [
    "Bounds of geohash with a precision of 1 character."
   ]
  },
  {
   "cell_type": "code",
   "execution_count": null,
   "metadata": {},
   "outputs": [],
   "source": [
    "plot_geohash_grid(1)"
   ]
  },
  {
   "cell_type": "markdown",
   "metadata": {},
   "source": [
    "Bounds of the geohash `d` with a precision of two characters."
   ]
  },
  {
   "cell_type": "code",
   "execution_count": null,
   "metadata": {},
   "outputs": [],
   "source": [
    "plot_geohash_grid(2, box=pyinterp.geohash.bounding_box('d'))"
   ]
  },
  {
   "cell_type": "markdown",
   "metadata": {},
   "source": [
    "Bounds of the geohash ``dd`` with a precision of three\n",
    "characters."
   ]
  },
  {
   "cell_type": "code",
   "execution_count": null,
   "metadata": {},
   "outputs": [],
   "source": [
    "plot_geohash_grid(3, box=pyinterp.geohash.bounding_box('dd'))"
   ]
  },
  {
   "cell_type": "markdown",
   "metadata": {},
   "source": [
    "Bounds of the geohash ``dds`` with a precision of four characters."
   ]
  },
  {
   "cell_type": "code",
   "execution_count": null,
   "metadata": {},
   "outputs": [],
   "source": [
    "plot_geohash_grid(4, box=pyinterp.geohash.bounding_box('dds'))"
   ]
  },
  {
   "cell_type": "markdown",
   "metadata": {},
   "source": [
    "Encoding\n",
    "-----------\n",
    "\n",
    "Generation of dummy data"
   ]
  },
  {
   "cell_type": "code",
   "execution_count": null,
   "metadata": {},
   "outputs": [],
   "source": [
    "SIZE = 1000000\n",
    "lon = numpy.random.uniform(-180, 180, SIZE)\n",
    "lat = numpy.random.uniform(-80, 80, SIZE)\n",
    "measures = numpy.random.random_sample(SIZE)"
   ]
  },
  {
   "cell_type": "markdown",
   "metadata": {},
   "source": [
    "This algorithm is very fast, which makes it possible to process a lot of\n",
    "data quickly."
   ]
  },
  {
   "cell_type": "code",
   "execution_count": null,
   "metadata": {},
   "outputs": [],
   "source": [
    "timeit.timeit(\"pyinterp.geohash.encode(lon, lat)\",\n",
    "              number=50,\n",
    "              globals=dict(pyinterp=pyinterp, lon=lon, lat=lat)) / 50"
   ]
  },
  {
   "cell_type": "markdown",
   "metadata": {},
   "source": [
    "Geohash index\n",
    "------------------"
   ]
  },
  {
   "cell_type": "code",
   "execution_count": null,
   "metadata": {},
   "outputs": [],
   "source": [
    "store = pyinterp.geohash.storage.MutableMapping()\n",
    "index = pyinterp.geohash.index.init_geohash(store, precision=3)"
   ]
  },
  {
   "cell_type": "markdown",
   "metadata": {},
   "source": [
    "The index can contain anything, as long as it\\'s possible to serialize\n",
    "the data."
   ]
  },
  {
   "cell_type": "code",
   "execution_count": null,
   "metadata": {},
   "outputs": [],
   "source": [
    "index.update(zip(index.encode(lon, lat), measures))"
   ]
  },
  {
   "cell_type": "markdown",
   "metadata": {},
   "source": [
    "Number of box filled in this index"
   ]
  },
  {
   "cell_type": "code",
   "execution_count": null,
   "metadata": {},
   "outputs": [],
   "source": [
    "len(index)"
   ]
  },
  {
   "cell_type": "markdown",
   "metadata": {},
   "source": [
    "Let\\'s imagine that we want to retrieve the data in the following\n",
    "polygon:\n",
    "\n",
    "-   ``POLYGON((-33.75 39.375,-33.75 45,-22.5 45,-22.5 39.375,-33.75 39.375))``\n"
   ]
  },
  {
   "cell_type": "code",
   "execution_count": null,
   "metadata": {},
   "outputs": [],
   "source": [
    "polygon = pyinterp.geodetic.Polygon.read_wkt(\n",
    "    \"POLYGON((-33.75 39.375,-33.75 45,-22.5 45,-22.5 39.375,-33.75 39.375))\")\n",
    "items = index.items(index.keys(polygon.envelope()))"
   ]
  },
  {
   "cell_type": "markdown",
   "metadata": {},
   "source": [
    "Density calculation"
   ]
  },
  {
   "cell_type": "code",
   "execution_count": null,
   "metadata": {},
   "outputs": [],
   "source": [
    "df = pandas.DataFrame(\n",
    "    dict(lon=lon,\n",
    "         lat=lat,\n",
    "         measures=measures,\n",
    "         geohash=pyinterp.geohash.encode(lon, lat, precision=3)))\n",
    "df.set_index(\"geohash\", inplace=True)\n",
    "df = df.groupby(\"geohash\").count()[\"measures\"].rename(\"count\").to_frame()\n",
    "df[\"density\"] = df[\"count\"] / (\n",
    "    pyinterp.geohash.area(df.index.values.astype('S')) / 1e6)\n",
    "array = pyinterp.geohash.to_xarray(df.index.values.astype('S'), df.density)\n",
    "array = array.where(array != 0, numpy.nan)\n",
    "\n",
    "fig = matplotlib.pyplot.figure()\n",
    "ax = fig.add_subplot(111)\n",
    "_ = array.plot(ax=ax)"
   ]
  }
 ],
 "metadata": {
  "kernelspec": {
   "display_name": "Python 3",
   "language": "python",
   "name": "python3"
  },
  "language_info": {
   "codemirror_mode": {
    "name": "ipython",
    "version": 3
   },
   "file_extension": ".py",
   "mimetype": "text/x-python",
   "name": "python",
   "nbconvert_exporter": "python",
   "pygments_lexer": "ipython3",
   "version": "3.8.5"
  }
 },
 "nbformat": 4,
 "nbformat_minor": 1
}
