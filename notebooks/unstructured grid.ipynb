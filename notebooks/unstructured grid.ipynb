{
 "cells": [
  {
   "cell_type": "markdown",
   "metadata": {},
   "source": [
    "# Unstructured grid"
   ]
  },
  {
   "cell_type": "markdown",
   "metadata": {},
   "source": [
    "## Reading data from a mesh.\n",
    "\n",
    "Here we read the data from the ocean model MITgcm LLC4320"
   ]
  },
  {
   "cell_type": "code",
   "execution_count": null,
   "metadata": {},
   "outputs": [],
   "source": [
    "import intake\n",
    "\n",
    "cat_url = (\"https://raw.githubusercontent.com/pangeo-data/\"\n",
    "           \"pangeo-datastore/master/intake-catalogs/ocean/llc4320.yaml\")\n",
    "cat = intake.Catalog(cat_url)"
   ]
  },
  {
   "cell_type": "markdown",
   "metadata": {},
   "source": [
    "Reading of the grid positions. The grid is under-sampled because the volume of data is very large."
   ]
  },
  {
   "cell_type": "code",
   "execution_count": null,
   "metadata": {},
   "outputs": [],
   "source": [
    "grid = cat.LLC4320_grid.to_dask()\n",
    "grid"
   ]
  },
  {
   "cell_type": "code",
   "execution_count": null,
   "metadata": {},
   "outputs": [],
   "source": [
    "subsampling = slice(0, None, 8)\n",
    "\n",
    "lons = grid[\"XC\"].isel(i=subsampling, j=subsampling).values\n",
    "lats = grid[\"YC\"].isel(i=subsampling, j=subsampling).values"
   ]
  },
  {
   "cell_type": "code",
   "execution_count": null,
   "metadata": {},
   "outputs": [],
   "source": [
    "del grid"
   ]
  },
  {
   "cell_type": "markdown",
   "metadata": {},
   "source": [
    "Reading data. We get one time frame only."
   ]
  },
  {
   "cell_type": "code",
   "execution_count": null,
   "metadata": {},
   "outputs": [],
   "source": [
    "ssh = cat.LLC4320_SSH.to_dask()\n",
    "ssh = ssh[\"Eta\"].isel(time=0, i=subsampling, j=subsampling).values"
   ]
  },
  {
   "cell_type": "markdown",
   "metadata": {},
   "source": [
    "## R\\*Tree\n",
    "\n",
    "The interpolation of this object is based on an [R\\*Tree](https://pangeo-pyinterp.readthedocs.io/en/latest/api/pyinterp.rtree.html#pyinterp.rtree.RTree) structure. To begin with, we start by building this object. By default, this object considers WGS-84 geodetic coordinate system. But you can define another one using class [System](https://pangeo-pyinterp.readthedocs.io/en/latest/api/pyinterp.geodetic.html#pyinterp.geodetic.System)."
   ]
  },
  {
   "cell_type": "code",
   "execution_count": null,
   "metadata": {},
   "outputs": [],
   "source": [
    "import pyinterp\n",
    "mesh = pyinterp.RTree()"
   ]
  },
  {
   "cell_type": "markdown",
   "metadata": {},
   "source": [
    "## Creating the search tree\n",
    "\n",
    "Then, we will insert points into the tree. The class allows you to insert points using two algorithms. The first one called [packing](https://pangeo-pyinterp.readthedocs.io/en/latest/api/pyinterp.rtree.html#pyinterp.rtree.RTree.packing) allows you to insert the values in the tree at once. This mechanism is the recommended solution to create an optimized in-memory structure, both in terms of construction time and queries. When this is not possible, you can insert new information into the tree as you go along using the [insert](https://pangeo-pyinterp.readthedocs.io/en/latest/api/pyinterp.rtree.html#pyinterp.rtree.RTree.insert) method."
   ]
  },
  {
   "cell_type": "code",
   "execution_count": null,
   "metadata": {},
   "outputs": [],
   "source": [
    "import numpy as  np\n",
    "\n",
    "mesh.packing(\n",
    "    np.vstack((lons.flatten(), lats.flatten())).T,\n",
    "    ssh.flatten())"
   ]
  },
  {
   "cell_type": "markdown",
   "metadata": {},
   "source": [
    "When the tree is created, you can interpolate data with two algorithms:\n",
    "* [Inverse Distance Weighting](https://pangeo-pyinterp.readthedocs.io/en/latest/api/pyinterp.rtree.html#pyinterp.rtree.RTree.inverse_distance_weighting) or IDW\n",
    "* [Radial Basis Function](https://pangeo-pyinterp.readthedocs.io/en/latest/api/pyinterp.rtree.html#pyinterp.rtree.RTree.radial_basis_function) or RBF\n",
    "\n",
    "Yon can also search the [nearest neighbors](https://pangeo-pyinterp.readthedocs.io/en/latest/api/pyinterp.rtree.html#pyinterp.rtree.RTree.query) on the tree.\n",
    "\n",
    "In this example, we will under-sample the source grid at 1/32 degree over an area of the globe."
   ]
  },
  {
   "cell_type": "code",
   "execution_count": null,
   "metadata": {},
   "outputs": [],
   "source": [
    "x0, x1 = 80, 170\n",
    "y0, y1 = -45, 30\n",
    "res = 1 / 32.0\n",
    "mx, my = np.meshgrid(\n",
    "    np.arange(x0, x1, res),\n",
    "    np.arange(y0, y1, res),\n",
    "    indexing=\"ij\")\n",
    "\n",
    "idw_eta, neighbors = mesh.inverse_distance_weighting(\n",
    "    np.vstack((mx.flatten(), my.flatten())).T,\n",
    "    within=False,    # Extrapolation is forbidden\n",
    "    radius=55000,    # In a radius of 5.5 Km\n",
    "    k=8,             # We are looking for at most 8 neighbours\n",
    "    num_threads=0)\n",
    "idw_eta = idw_eta.reshape(mx.shape)\n",
    "\n",
    "rbf_eta, neighbors = mesh.radial_basis_function(\n",
    "    np.vstack((mx.flatten(), my.flatten())).T,\n",
    "    within=False,    # Extrapolation is forbidden\n",
    "    k=11,            # We are looking for at most 8 neighbours\n",
    "    num_threads=0)\n",
    "rbf_eta = rbf_eta.reshape(mx.shape)"
   ]
  },
  {
   "cell_type": "markdown",
   "metadata": {},
   "source": [
    "Let's visualize our interpolated data"
   ]
  },
  {
   "cell_type": "code",
   "execution_count": null,
   "metadata": {},
   "outputs": [],
   "source": [
    "import matplotlib.pyplot as plt\n",
    "import cartopy.crs as ccrs\n",
    "import cartopy.mpl.ticker as cticker\n",
    "%matplotlib inline\n",
    "\n",
    "fig = plt.figure(figsize=(18, 9))\n",
    "lon_formatter = cticker.LongitudeFormatter(zero_direction_label=True)\n",
    "lat_formatter = cticker.LatitudeFormatter()\n",
    "ax = fig.add_subplot(121, projection=ccrs.PlateCarree())\n",
    "ax.pcolormesh(mx, my, idw_eta, cmap='terrain',\n",
    "              transform=ccrs.PlateCarree())\n",
    "ax.coastlines()\n",
    "ax.xaxis.set_major_formatter(lon_formatter)\n",
    "ax.yaxis.set_major_formatter(lat_formatter)\n",
    "ax.set_xticks(np.arange(x0, x1, 10.0))\n",
    "ax.set_yticks(np.arange(y0, y1, 10))\n",
    "ax.set_title(\"Eta (IDW)\")\n",
    "\n",
    "ax = fig.add_subplot(122, projection=ccrs.PlateCarree())\n",
    "ax.pcolormesh(mx, my, rbf_eta, cmap='terrain',\n",
    "              transform=ccrs.PlateCarree())\n",
    "ax.coastlines()\n",
    "ax.xaxis.set_major_formatter(lon_formatter)\n",
    "ax.yaxis.set_major_formatter(lat_formatter)\n",
    "ax.set_xticks(np.arange(x0, x1, 10.0))\n",
    "ax.set_yticks(np.arange(y0, y1, 10))\n",
    "ax.set_title(\"Eta (RBF)\")"
   ]
  }
 ],
 "metadata": {
  "kernelspec": {
   "display_name": "Python 3",
   "language": "python",
   "name": "python3"
  },
  "language_info": {
   "codemirror_mode": {
    "name": "ipython",
    "version": 3
   },
   "file_extension": ".py",
   "mimetype": "text/x-python",
   "name": "python",
   "nbconvert_exporter": "python",
   "pygments_lexer": "ipython3",
   "version": "3.7.5"
  }
 },
 "nbformat": 4,
 "nbformat_minor": 2
}
