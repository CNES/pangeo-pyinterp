{
 "cells": [
  {
   "cell_type": "markdown",
   "metadata": {},
   "source": [
    "# Binning bivariate\n",
    "\n",
    "Discretizes the data into a regular grid (computes a binned approximation) using the nearest binning technique.\n",
    "\n",
    "Statistical data binning is a way to group a number of more or less continuous values into a smaller number of \"bins\". For example, if you have irregularly distributed data over the oceans, you can organize these observations into a smaller number of geographical intervals (for example, by grouping them all five degrees into latitudes and longitudes)."
   ]
  },
  {
   "cell_type": "code",
   "execution_count": null,
   "metadata": {},
   "outputs": [],
   "source": [
    "import os\n",
    "import numpy as np\n",
    "import xarray as xr\n",
    "import pyinterp.binning"
   ]
  },
  {
   "cell_type": "markdown",
   "metadata": {},
   "source": [
    "In this example, we will calculate the statistics on the MSS grid with boxes of 5 degrees in latitudes and longitudes."
   ]
  },
  {
   "cell_type": "code",
   "execution_count": null,
   "metadata": {},
   "outputs": [],
   "source": [
    "binned = pyinterp.binning.NearestBivariate(\n",
    "    pyinterp.Axis(np.arange(-180, 180, 5), is_circle=True),\n",
    "    pyinterp.Axis(np.arange(-90, 95, 5)))"
   ]
  },
  {
   "cell_type": "code",
   "execution_count": null,
   "metadata": {},
   "outputs": [],
   "source": [
    "binned"
   ]
  },
  {
   "cell_type": "markdown",
   "metadata": {},
   "source": [
    "Load our test sets into memory."
   ]
  },
  {
   "cell_type": "code",
   "execution_count": null,
   "metadata": {},
   "outputs": [],
   "source": [
    "ds = xr.load_dataset(\"../tests/dataset/mss.nc\")"
   ]
  },
  {
   "cell_type": "code",
   "execution_count": null,
   "metadata": {},
   "outputs": [],
   "source": [
    "lon, lat = np.meshgrid(ds.lon, ds.lat)"
   ]
  },
  {
   "cell_type": "markdown",
   "metadata": {},
   "source": [
    "We push the loaded data into the different defined bins."
   ]
  },
  {
   "cell_type": "code",
   "execution_count": null,
   "metadata": {},
   "outputs": [],
   "source": [
    "binned.push(lon, lat, ds.mss)"
   ]
  },
  {
   "cell_type": "markdown",
   "metadata": {},
   "source": [
    "We visualize our result"
   ]
  },
  {
   "cell_type": "code",
   "execution_count": null,
   "metadata": {},
   "outputs": [],
   "source": [
    "import matplotlib.pyplot as plt\n",
    "import cartopy.crs as ccrs\n",
    "%matplotlib inline\n",
    "\n",
    "fig = plt.figure(figsize=(9, 4.5))\n",
    "ax = fig.add_subplot(111, projection=ccrs.PlateCarree())\n",
    "lon, lat = np.meshgrid(binned.x, binned.y, indexing='ij')\n",
    "ax.pcolormesh(lon, lat, binned.variable('mean'), cmap='jet',\n",
    "              transform=ccrs.PlateCarree())\n",
    "ax.coastlines()\n",
    "ax.set_title(\"Mean MSS per 5 degree bin.\")"
   ]
  }
 ],
 "metadata": {
  "kernelspec": {
   "display_name": "Python 3",
   "language": "python",
   "name": "python3"
  },
  "language_info": {
   "codemirror_mode": {
    "name": "ipython",
    "version": 3
   },
   "file_extension": ".py",
   "mimetype": "text/x-python",
   "name": "python",
   "nbconvert_exporter": "python",
   "pygments_lexer": "ipython3",
   "version": "3.7.4"
  }
 },
 "nbformat": 4,
 "nbformat_minor": 2
}
