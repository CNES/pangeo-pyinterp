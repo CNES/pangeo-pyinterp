{
 "cells": [
  {
   "cell_type": "markdown",
   "id": "63d2cb88",
   "metadata": {},
   "source": [
    "# Descriptive Statistics\n",
    "\n",
    "Numpy offers many statistical functions, but if you want to obtain several\n",
    "statistical variables from the same array, it' s necessary to process the data\n",
    "several times to calculate the various parameters. This example shows how to use\n",
    "the `DescriptiveStatistics` class to obtain several statistical variables with a\n",
    "single calculation. Also, the calculation algorithm is incremental and is more\n",
    "numerically stable. \n",
    "\n",
    "---\n",
    "**Reference**\n",
    "\n",
    "Pébay, P., Terriberry, T.B., Kolla, H. et al.\n",
    "Numerically stable, scalable formulas for parallel and online\n",
    "    computation of higher-order multivariate central moments\n",
    "    with arbitrary weights.\n",
    "Comput Stat 31, 1305–1325,\n",
    "2016,\n",
    "https://doi.org/10.1007/s00180-015-0637-z\n",
    "\n",
    "---\n"
   ]
  },
  {
   "cell_type": "code",
   "execution_count": 1,
   "id": "b6356254",
   "metadata": {},
   "outputs": [],
   "source": [
    "import dask.array\n",
    "import numpy\n",
    "import pyinterp"
   ]
  },
  {
   "cell_type": "markdown",
   "id": "d67101e4",
   "metadata": {},
   "source": [
    "Create a random array"
   ]
  },
  {
   "cell_type": "code",
   "execution_count": 17,
   "id": "52a782e4",
   "metadata": {},
   "outputs": [],
   "source": [
    "values = numpy.random.random_sample((2, 4, 6, 8))"
   ]
  },
  {
   "cell_type": "markdown",
   "id": "520cf30f",
   "metadata": {},
   "source": [
    "Create a DescriptiveStatistics object."
   ]
  },
  {
   "cell_type": "code",
   "execution_count": 18,
   "id": "07af71d5",
   "metadata": {},
   "outputs": [],
   "source": [
    "ds = pyinterp.DescriptiveStatistics(values)"
   ]
  },
  {
   "cell_type": "markdown",
   "id": "76596226",
   "metadata": {},
   "source": [
    "The constructor will calculate the\n",
    "statistical variables on the provided data. The calculated variables are\n",
    "stored in the instance and can be accessed using different methods:\n",
    "- mean\n",
    "- var\n",
    "- std\n",
    "- skewness\n",
    "- kurtosis\n",
    "- min\n",
    "- max\n",
    "- sum\n",
    "- sum_of_weights\n",
    "- count"
   ]
  },
  {
   "cell_type": "code",
   "execution_count": 19,
   "id": "2b7d0937",
   "metadata": {},
   "outputs": [
    {
     "data": {
      "text/plain": [
       "array([384], dtype=uint64)"
      ]
     },
     "execution_count": 19,
     "metadata": {},
     "output_type": "execute_result"
    }
   ],
   "source": [
    "ds.count()"
   ]
  },
  {
   "cell_type": "code",
   "execution_count": 20,
   "id": "9e0cf65f",
   "metadata": {},
   "outputs": [
    {
     "data": {
      "text/plain": [
       "array([0.51912064])"
      ]
     },
     "execution_count": 20,
     "metadata": {},
     "output_type": "execute_result"
    }
   ],
   "source": [
    "ds.mean()"
   ]
  },
  {
   "cell_type": "markdown",
   "id": "c6de8f16",
   "metadata": {},
   "source": [
    "It's possible to get a structured numpy array containing the different\n",
    "statistical variables calculated."
   ]
  },
  {
   "cell_type": "code",
   "execution_count": 21,
   "id": "814f6571",
   "metadata": {},
   "outputs": [
    {
     "data": {
      "text/plain": [
       "array([(384, -1.18435337, 0.99856285, 0.51912064, 0.00063736, -0.09977946, 384., 199.34232616, 0.08335215)],\n",
       "      dtype=[('count', '<u8'), ('kurtosis', '<f8'), ('max', '<f8'), ('mean', '<f8'), ('min', '<f8'), ('skewness', '<f8'), ('sum_of_weights', '<f8'), ('sum', '<f8'), ('var', '<f8')])"
      ]
     },
     "execution_count": 21,
     "metadata": {},
     "output_type": "execute_result"
    }
   ],
   "source": [
    "ds.array()"
   ]
  },
  {
   "cell_type": "markdown",
   "id": "58dd3642",
   "metadata": {},
   "source": [
    "Like numpy, it's possible to compute statistics along axis."
   ]
  },
  {
   "cell_type": "code",
   "execution_count": 28,
   "id": "572c7f83",
   "metadata": {},
   "outputs": [
    {
     "data": {
      "text/plain": [
       "array([[0.62106639, 0.55990265, 0.49600494, 0.59198591, 0.38853371,\n",
       "        0.4836088 , 0.52754268, 0.43650409],\n",
       "       [0.38897503, 0.47861264, 0.47846479, 0.5845428 , 0.55372859,\n",
       "        0.55683471, 0.61509492, 0.5445276 ]])"
      ]
     },
     "execution_count": 28,
     "metadata": {},
     "output_type": "execute_result"
    }
   ],
   "source": [
    "ds = pyinterp.DescriptiveStatistics(values, axis=(1, 2))\n",
    "ds.mean()"
   ]
  },
  {
   "cell_type": "markdown",
   "id": "7d51b332",
   "metadata": {},
   "source": [
    "The class can also process a dask array. In this case, the call to the\n",
    "constructor triggers the calculation."
   ]
  },
  {
   "cell_type": "code",
   "execution_count": 29,
   "id": "80bbc72d",
   "metadata": {},
   "outputs": [
    {
     "data": {
      "text/plain": [
       "array([[0.62106639, 0.55990265, 0.49600494, 0.59198591, 0.38853371,\n",
       "        0.4836088 , 0.52754268, 0.43650409],\n",
       "       [0.38897503, 0.47861264, 0.47846479, 0.5845428 , 0.55372859,\n",
       "        0.55683471, 0.61509492, 0.5445276 ]])"
      ]
     },
     "execution_count": 29,
     "metadata": {},
     "output_type": "execute_result"
    }
   ],
   "source": [
    "ds = pyinterp.DescriptiveStatistics(\n",
    "    dask.array.from_array(values, chunks=(2, 2, 2, 2)),\n",
    "    axis=(1, 2))\n",
    "ds.mean()"
   ]
  },
  {
   "cell_type": "markdown",
   "id": "2936e6b2",
   "metadata": {},
   "source": [
    "Finally, it's possible to calculate weighted statistics."
   ]
  },
  {
   "cell_type": "code",
   "execution_count": 33,
   "id": "67da8b94",
   "metadata": {},
   "outputs": [
    {
     "data": {
      "text/plain": [
       "array([[0.64582051, 0.59698443, 0.51044621, 0.52356292, 0.36105208,\n",
       "        0.48819244, 0.56269849, 0.4328734 ],\n",
       "       [0.42408451, 0.43184485, 0.44069451, 0.57962569, 0.53435349,\n",
       "        0.56716452, 0.65048573, 0.54651728]])"
      ]
     },
     "execution_count": 33,
     "metadata": {},
     "output_type": "execute_result"
    }
   ],
   "source": [
    "weights = numpy.random.random_sample((2, 4, 6, 8))\n",
    "ds = pyinterp.DescriptiveStatistics(values, weights=weights, axis=(1, 2))\n",
    "ds.mean()"
   ]
  }
 ],
 "metadata": {
  "kernelspec": {
   "display_name": "Python 3",
   "language": "python",
   "name": "python3"
  },
  "language_info": {
   "codemirror_mode": {
    "name": "ipython",
    "version": 3
   },
   "file_extension": ".py",
   "mimetype": "text/x-python",
   "name": "python",
   "nbconvert_exporter": "python",
   "pygments_lexer": "ipython3",
   "version": "3.8.11"
  }
 },
 "nbformat": 4,
 "nbformat_minor": 5
}
