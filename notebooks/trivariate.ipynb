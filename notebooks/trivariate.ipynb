{
 "cells": [
  {
   "cell_type": "markdown",
   "metadata": {},
   "source": [
    "# 3D interpolation\n",
    "\n",
    "This example shows how to interpolate values from  arbitrary points in a 3D space of a function defined on a Cartesian grid.\n",
    "\n",
    "Methods used performs an interpolation in 2D space by considering the axes of longitude and latitude of the grid, then performs a linear interpolation in the third dimension using the two values obtained by the 2D interpolation.\n",
    "\n",
    "Let's start by building our interpolator:"
   ]
  },
  {
   "cell_type": "code",
   "execution_count": null,
   "metadata": {},
   "outputs": [],
   "source": [
    "import xarray as xr\n",
    "import pyinterp.backends.xarray as pxr\n",
    "\n",
    "ds = xr.load_dataset(\"../tests/dataset/tcw.nc\")\n",
    "# The grid used organizes the latitudes in descending order. We ask our\n",
    "# constructor to flip this axis in order to correctly evaluate the bicubic\n",
    "# interpolation from this 3D cube (only necessary to perform a bicubic\n",
    "# interpolation).\n",
    "interpolator = pxr.Grid3D(ds.data_vars[\"tcw\"], increasing_axes=True)\n",
    "interpolator"
   ]
  },
  {
   "cell_type": "markdown",
   "metadata": {},
   "source": [
    "We will build a new grid that will be used to build a new interpolated grid."
   ]
  },
  {
   "cell_type": "code",
   "execution_count": null,
   "metadata": {},
   "outputs": [],
   "source": [
    "import datetime\n",
    "import numpy as np\n",
    "\n",
    "# The coordinates used for interpolation are shifted to avoid using the\n",
    "# points of the trivariate function.\n",
    "mx, my, mz = np.meshgrid(\n",
    "    np.arange(-180, 180, 0.25) + 1 / 3.0,\n",
    "    np.arange(-80, 80, 0.25) + 1 / 3.0,\n",
    "    np.array([datetime.datetime(2002, 7, 2, 15, 0)],\n",
    "             interpolator.time_unit()),\n",
    "    indexing='ij')"
   ]
  },
  {
   "cell_type": "markdown",
   "metadata": {},
   "source": [
    "We interpolate our grid using a classical [trivariate](https://pangeo-pyinterp.readthedocs.io/en/latest/api/pyinterp.interpolator.trivariate.html#trivariate-interpolation) interpolation, then a [bicubic](https://pangeo-pyinterp.readthedocs.io/en/latest/api/pyinterp.bicubic.html#pyinterp.bicubic.bicubic) interpolation in space followed by a linear interpolation in the temporal axis."
   ]
  },
  {
   "cell_type": "code",
   "execution_count": null,
   "metadata": {},
   "outputs": [],
   "source": [
    "trivariate = interpolator.trivariate(\n",
    "    dict(longitude=mx.flatten(), latitude=my.flatten(), time=mz.flatten()))\n",
    "bicubic = interpolator.bicubic(\n",
    "    dict(longitude=mx.flatten(), latitude=my.flatten(), time=mz.flatten()))"
   ]
  },
  {
   "cell_type": "markdown",
   "metadata": {},
   "source": [
    "We transform our result cubes into a matrix."
   ]
  },
  {
   "cell_type": "code",
   "execution_count": null,
   "metadata": {},
   "outputs": [],
   "source": [
    "trivariate = trivariate.reshape(mx.shape).squeeze(axis=2)\n",
    "bicubic = bicubic.reshape(mx.shape).squeeze(axis=2)\n",
    "lons = mx[:, 0].squeeze()\n",
    "lats = my[0, :].squeeze()"
   ]
  },
  {
   "cell_type": "markdown",
   "metadata": {},
   "source": [
    "Let's visualize our results."
   ]
  },
  {
   "cell_type": "code",
   "execution_count": null,
   "metadata": {
    "scrolled": false
   },
   "outputs": [],
   "source": [
    "import matplotlib.pyplot as plt\n",
    "import cartopy.crs as ccrs\n",
    "%matplotlib inline\n",
    "\n",
    "fig = plt.figure(figsize=(18, 9))\n",
    "ax = fig.add_subplot(121, projection=ccrs.PlateCarree(central_longitude=180))\n",
    "ax.pcolormesh(lons, lats, trivariate.T, cmap='jet',\n",
    "              transform=ccrs.PlateCarree())\n",
    "ax.coastlines()\n",
    "ax.set_extent([80, 170, -45, 30], crs=ccrs.PlateCarree())\n",
    "ax.set_title(\"Trilinear\")\n",
    "\n",
    "ax = fig.add_subplot(122, projection=ccrs.PlateCarree(central_longitude=180))\n",
    "ax.pcolormesh(lons, lats, bicubic.T, cmap='jet',\n",
    "              transform=ccrs.PlateCarree())\n",
    "ax.coastlines()\n",
    "ax.set_extent([80, 170, -45, 30], crs=ccrs.PlateCarree())\n",
    "ax.set_title(\"Bicubic & Linear in time\")"
   ]
  }
 ],
 "metadata": {
  "kernelspec": {
   "display_name": "Python 3",
   "language": "python",
   "name": "python3"
  },
  "language_info": {
   "codemirror_mode": {
    "name": "ipython",
    "version": 3
   },
   "file_extension": ".py",
   "mimetype": "text/x-python",
   "name": "python",
   "nbconvert_exporter": "python",
   "pygments_lexer": "ipython3",
   "version": "3.7.4"
  }
 },
 "nbformat": 4,
 "nbformat_minor": 2
}
