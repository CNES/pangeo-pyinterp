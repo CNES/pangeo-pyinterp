{
  "cells": [
    {
      "cell_type": "code",
      "execution_count": null,
      "metadata": {
        "collapsed": false
      },
      "outputs": [],
      "source": [
        "%matplotlib inline"
      ]
    },
    {
      "cell_type": "markdown",
      "metadata": {},
      "source": [
        "# 3D interpolation\r\n\r\nInterpolation of a three-dimensional regular grid.\r\n\r\n## Trivariate\r\n\r\nThe :py`trivariate <pyinterp.trivariate>`{.interpreted-text role=\"func\"}\r\ninterpolation allows obtaining values at arbitrary points in a 3D space\r\nof a function defined on a grid.\r\n\r\nThe distribution contains a 3D field `tcw.nc` that will be used in this\r\nhelp. This file is located in the `tests/dataset` directory at the root\r\nof the project.\r\n\r\nThis method performs a bilinear interpolation in 2D space by considering\r\nthe axes of longitude and latitude of the grid, then performs a linear\r\ninterpolation in the third dimension. Its interface is similar to the\r\n:py`bivariate <pyinterp.bivariate>`{.interpreted-text role=\"func\"} class\r\nexcept for a third axis, which is handled by this object.\r\n\r\n::: {.note}\r\n::: {.title}\r\nNote\r\n:::\r\n\r\nWhen using a time axis, care must be taken to use the same unit of\r\ndates, between the axis defined and the dates supplied during\r\ninterpolation. The function\r\n:py`pyinterp.TemporalAxis.safe_cast`{.interpreted-text role=\"meth\"}\r\nautomates this task and will warn you if there is an inconsistency\r\nduring the date conversion.\r\n:::\r\n"
      ]
    },
    {
      "cell_type": "code",
      "execution_count": null,
      "metadata": {
        "collapsed": false
      },
      "outputs": [],
      "source": [
        "import os\nimport pathlib\nimport cartopy.crs\nimport matplotlib\nimport matplotlib.pyplot\nimport numpy\nimport pyinterp\nimport pyinterp.backends.xarray\nimport xarray\n\nDATASET = pathlib.Path(os.environ['DATASET'])\nTCW = DATASET.joinpath(\"tcw.nc\")"
      ]
    },
    {
      "cell_type": "markdown",
      "metadata": {},
      "source": [
        "The first step is to load the data into memory and create the\r\ninterpolator object:\r\n"
      ]
    },
    {
      "cell_type": "code",
      "execution_count": null,
      "metadata": {
        "collapsed": false
      },
      "outputs": [],
      "source": [
        "ds = xarray.open_dataset(TCW)\ninterpolator = pyinterp.backends.xarray.Grid3D(ds.tcw)"
      ]
    },
    {
      "cell_type": "markdown",
      "metadata": {},
      "source": [
        "We will build a new grid that will be used to build a new interpolated\r\ngrid.\r\n"
      ]
    },
    {
      "cell_type": "code",
      "execution_count": null,
      "metadata": {
        "collapsed": false
      },
      "outputs": [],
      "source": [
        "mx, my, mz = numpy.meshgrid(numpy.arange(-180, 180, 0.25) + 1 / 3.0,\n                            numpy.arange(-80, 80, 0.25) + 1 / 3.0,\n                            numpy.array([\"2002-07-02T15:00:00\"],\n                                        dtype=\"datetime64\"),\n                            indexing='ij')"
      ]
    },
    {
      "cell_type": "markdown",
      "metadata": {},
      "source": [
        "We interpolate our grid using a :py`classical\r\n<pyinterp.backends.xarray.Grid3D.trivariate>`{.interpreted-text\r\nrole=\"meth\"}:\r\n"
      ]
    },
    {
      "cell_type": "code",
      "execution_count": null,
      "metadata": {
        "collapsed": false
      },
      "outputs": [],
      "source": [
        "trivariate = interpolator.trivariate(\n    dict(longitude=mx.flatten(), latitude=my.flatten(), time=mz.flatten()))"
      ]
    },
    {
      "cell_type": "markdown",
      "metadata": {},
      "source": [
        "# Bicubic on 3D grid\r\n\r\nThe grid used organizes the latitudes in descending order. We ask our\r\nconstructor to flip this axis in order to correctly evaluate the bicubic\r\ninterpolation from this 3D cube (only necessary to perform a bicubic\r\ninterpolation).\r\n"
      ]
    },
    {
      "cell_type": "code",
      "execution_count": null,
      "metadata": {
        "collapsed": false
      },
      "outputs": [],
      "source": [
        "interpolator = pyinterp.backends.xarray.Grid3D(ds.data_vars[\"tcw\"],\n                                               increasing_axes=True)"
      ]
    },
    {
      "cell_type": "markdown",
      "metadata": {},
      "source": [
        "We interpolate our grid using a :py`bicubic\r\n<pyinterp.backends.xarray.Grid3D.bicubic>`{.interpreted-text\r\nrole=\"meth\"} interpolation in space followed by a linear interpolation\r\nin the temporal axis:\r\n"
      ]
    },
    {
      "cell_type": "code",
      "execution_count": null,
      "metadata": {
        "collapsed": false
      },
      "outputs": [],
      "source": [
        "bicubic = interpolator.bicubic(\n    dict(longitude=mx.flatten(), latitude=my.flatten(), time=mz.flatten()))"
      ]
    },
    {
      "cell_type": "markdown",
      "metadata": {},
      "source": [
        "We transform our result cubes into a matrix.\r\n"
      ]
    },
    {
      "cell_type": "code",
      "execution_count": null,
      "metadata": {
        "collapsed": false
      },
      "outputs": [],
      "source": [
        "trivariate = trivariate.reshape(mx.shape).squeeze(axis=2)\nbicubic = bicubic.reshape(mx.shape).squeeze(axis=2)\nlons = mx[:, 0].squeeze()\nlats = my[0, :].squeeze()"
      ]
    },
    {
      "cell_type": "markdown",
      "metadata": {},
      "source": [
        "Let\\'s visualize our results.\r\n"
      ]
    },
    {
      "cell_type": "code",
      "execution_count": null,
      "metadata": {
        "collapsed": false
      },
      "outputs": [],
      "source": [
        "fig = matplotlib.pyplot.figure(figsize=(5, 8))\nfig.patch.set_alpha(0.0)\nax1 = fig.add_subplot(\n    211, projection=cartopy.crs.PlateCarree(central_longitude=180))\npcm = ax1.pcolormesh(lons,\n                     lats,\n                     trivariate.T,\n                     cmap='jet',\n                     transform=cartopy.crs.PlateCarree(),\n                     vmin=0,\n                     vmax=80)\nax1.coastlines()\nax1.set_extent([80, 170, -45, 30], crs=cartopy.crs.PlateCarree())\nax1.set_title(\"Trilinear\")\n\nax2 = fig.add_subplot(\n    212, projection=cartopy.crs.PlateCarree(central_longitude=180))\npcm = ax2.pcolormesh(lons,\n                     lats,\n                     bicubic.T,\n                     cmap='jet',\n                     transform=cartopy.crs.PlateCarree(),\n                     vmin=0,\n                     vmax=80)\nax2.coastlines()\nax2.set_extent([80, 170, -45, 30], crs=cartopy.crs.PlateCarree())\nax2.set_title(\"Spline & Linear in time\")\nfig.colorbar(pcm, ax=[ax1, ax2], shrink=0.8)\nfig.show()"
      ]
    }
  ],
  "metadata": {
    "kernelspec": {
      "display_name": "Python 3",
      "language": "python",
      "name": "python3"
    },
    "language_info": {
      "codemirror_mode": {
        "name": "ipython",
        "version": 3
      },
      "file_extension": ".py",
      "mimetype": "text/x-python",
      "name": "python",
      "nbconvert_exporter": "python",
      "pygments_lexer": "ipython3",
      "version": "3.6.7"
    }
  },
  "nbformat": 4,
  "nbformat_minor": 0
}