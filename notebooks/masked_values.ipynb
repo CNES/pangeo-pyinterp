{
 "cells": [
  {
   "cell_type": "markdown",
   "metadata": {},
   "source": [
    "# Fill NaN values\n",
    "\n",
    "The undefined values in the grids do not allow interpolation of values located in the neighborhood. This behavior is a concern when you need to interpolate values near the land/sea mask of some maps. For example:\n",
    "\n",
    "<img src=\"masked_values.svg\" alt=\"Drawing\" align=\"middle\" style=\"width: 300px;\"/>\n",
    "\n",
    "For example, in the figure above, if you want to interpolate the black point with a bilinear interpolation, the undefined red value, set to NaN, will not allow its calculation (the result of the arithmetic operation using a value equal to NaN is NaN). To overcome this problem, the library provides methods to fill undefined values.\n",
    "\n",
    "---\n",
    "**Note**\n",
    "\n",
    "In the case of an interpolation of the nearest neighbor the undefined values have no impact because no arithmetic operation is done on the grid values: we just return the value of the nearest point.\n",
    "\n",
    "---\n",
    "\n",
    "## Loess\n",
    "\n",
    "The [first](https://pangeo-pyinterp.readthedocs.io/en/latest/api/pyinterp.fill.html#pyinterp.fill.loess) method applies a weighted local regression to extrapolate the boundary between defined and undefined values. The user must indicate the number of pixels on the X and Y axes to be considered in the calculation.\n",
    "\n",
    "Let's start by building the object handling our grid."
   ]
  },
  {
   "cell_type": "code",
   "execution_count": null,
   "metadata": {},
   "outputs": [],
   "source": [
    "import xarray as xr\n",
    "import pyinterp.backends.xarray\n",
    "import pyinterp.fill\n",
    "\n",
    "ds = xr.load_dataset(\"../tests/dataset/mss.nc\")\n",
    "grid = pyinterp.backends.xarray.Grid2D(ds.data_vars[\"mss\"])\n",
    "filled = pyinterp.fill.loess(grid, nx=3, ny=3)"
   ]
  },
  {
   "cell_type": "markdown",
   "metadata": {},
   "source": [
    "The function filling the holes near the mask is called"
   ]
  },
  {
   "cell_type": "code",
   "execution_count": null,
   "metadata": {},
   "outputs": [],
   "source": [
    "filled = pyinterp.fill.loess(grid, nx=3, ny=3, num_threads=4)"
   ]
  },
  {
   "cell_type": "markdown",
   "metadata": {},
   "source": [
    "The image below illustrates the result:"
   ]
  },
  {
   "cell_type": "code",
   "execution_count": null,
   "metadata": {},
   "outputs": [],
   "source": [
    "import matplotlib.pyplot as plt\n",
    "import cartopy.crs as ccrs\n",
    "import numpy as np\n",
    "%matplotlib inline\n",
    "\n",
    "fig = plt.figure(figsize=(18, 9))\n",
    "ax = fig.add_subplot(121, projection=ccrs.PlateCarree(central_longitude=180))\n",
    "lons, lats = np.meshgrid(grid.x, grid.y, indexing='ij')\n",
    "ax.pcolormesh(lons, lats, grid.array, transform=ccrs.PlateCarree(), cmap='jet')\n",
    "ax.coastlines()\n",
    "ax.set_title(\"Original MSS\")\n",
    "ax.set_extent([80, 170, -45, 30], crs=ccrs.PlateCarree())\n",
    "\n",
    "ax = fig.add_subplot(122, projection=ccrs.PlateCarree(central_longitude=180))\n",
    "ax.pcolormesh(lons, lats, filled, transform=ccrs.PlateCarree(), cmap='jet')\n",
    "ax.coastlines()\n",
    "ax.set_title(\"MSS modified using the LOESS filter\")\n",
    "ax.set_extent([80, 170, -45, 30], crs=ccrs.PlateCarree())"
   ]
  },
  {
   "cell_type": "markdown",
   "metadata": {},
   "source": [
    "## Gauss-Seidel\n",
    "\n",
    "The [second method](https://pangeo-pyinterp.readthedocs.io/en/latest/api/pyinterp.fill.html#pyinterp.fill.gauss_seidel) consists of replacing all undefined values (NaN) in a grid using the Gauss-Seidel method by relaxation. This [link](https://math.berkeley.edu/~wilken/228A.F07/chr_lecture.pdf) contains more information on the method used."
   ]
  },
  {
   "cell_type": "code",
   "execution_count": null,
   "metadata": {},
   "outputs": [],
   "source": [
    "has_converged, filled = pyinterp.fill.gauss_seidel(grid)"
   ]
  },
  {
   "cell_type": "markdown",
   "metadata": {},
   "source": [
    "The image below illustrates the result:"
   ]
  },
  {
   "cell_type": "code",
   "execution_count": null,
   "metadata": {},
   "outputs": [],
   "source": [
    "fig = plt.figure(figsize=(18, 9))\n",
    "ax = fig.add_subplot(121, projection=ccrs.PlateCarree(central_longitude=180))\n",
    "lons, lats = np.meshgrid(grid.x, grid.y, indexing='ij')\n",
    "ax.pcolormesh(lons, lats, grid.array, transform=ccrs.PlateCarree(), cmap='jet')\n",
    "ax.coastlines()\n",
    "ax.set_title(\"Original MSS\")\n",
    "ax.set_extent([80, 170, -45, 30], crs=ccrs.PlateCarree())\n",
    "\n",
    "ax = fig.add_subplot(122, projection=ccrs.PlateCarree(central_longitude=180))\n",
    "ax.pcolormesh(lons, lats, filled, transform=ccrs.PlateCarree(), cmap='jet')\n",
    "ax.coastlines()\n",
    "ax.set_title(\"MSS modified using Gauss-Seidel\")\n",
    "ax.set_extent([80, 170, -45, 30], crs=ccrs.PlateCarree())"
   ]
  }
 ],
 "metadata": {
  "kernelspec": {
   "display_name": "Python 3",
   "language": "python",
   "name": "python3"
  },
  "language_info": {
   "codemirror_mode": {
    "name": "ipython",
    "version": 3
   },
   "file_extension": ".py",
   "mimetype": "text/x-python",
   "name": "python",
   "nbconvert_exporter": "python",
   "pygments_lexer": "ipython3",
   "version": "3.7.4"
  }
 },
 "nbformat": 4,
 "nbformat_minor": 2
}
