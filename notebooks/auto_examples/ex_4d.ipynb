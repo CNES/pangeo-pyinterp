{
  "cells": [
    {
      "cell_type": "code",
      "execution_count": null,
      "metadata": {
        "collapsed": false
      },
      "outputs": [],
      "source": [
        "%matplotlib inline"
      ]
    },
    {
      "cell_type": "markdown",
      "metadata": {},
      "source": [
        "4D interpolation\n",
        "================\n",
        "\n",
        "Interpolation of a four-dimensional regular grid.\n",
        "\n",
        "Quadrivariate\n",
        "-------------\n",
        "\n",
        "The\n",
        "[quadrivariate](https://pangeo-pyinterp.readthedocs.io/en/latest/generated/pyinterp.quadrivariate.html#pyinterp.quadrivariate)\n",
        "interpolation allows obtaining values at arbitrary points in a 4D space of a\n",
        "function defined on a grid.\n",
        "\n",
        "The distribution contains a 4D field `pres_temp_4D.nc` that will be used\n",
        "in this help. This file is located in the `tests/dataset` directory at\n",
        "the root of the project.\n",
        "\n",
        "This method performs a bilinear interpolation in 2D space by considering the\n",
        "axes of longitude and latitude of the grid, then performs a linear interpolation\n",
        "in the third and fourth dimensions. Its interface is similar to the\n",
        "[trivariate](https://pangeo-pyinterp.readthedocs.io/en/latest/generated/pyinterp.trivariate.html#pyinterp.trivariate)\n",
        "class except for a fourth axis, which is handled by this object."
      ]
    },
    {
      "cell_type": "code",
      "execution_count": null,
      "metadata": {
        "collapsed": false
      },
      "outputs": [],
      "source": [
        "import os\n",
        "import pathlib\n",
        "import cartopy.crs\n",
        "import matplotlib\n",
        "import matplotlib.pyplot\n",
        "import numpy\n",
        "import pyinterp\n",
        "import pyinterp.backends.xarray\n",
        "import xarray\n",
        "\n",
        "DATASET = pathlib.Path(\"..\", \"..\", \"tests\", \"dataset\")\n",
        "PRES_TEMP = DATASET.joinpath(\"pres_temp_4D.nc\")"
      ]
    },
    {
      "cell_type": "markdown",
      "metadata": {},
      "source": [
        "The first step is to load the data into memory and create the\n",
        "interpolator object:\n"
      ]
    },
    {
      "cell_type": "code",
      "execution_count": null,
      "metadata": {
        "collapsed": false
      },
      "outputs": [],
      "source": [
        "ds = xarray.open_dataset(PRES_TEMP)\n",
        "interpolator = pyinterp.backends.xarray.Grid4D(ds.pressure)"
      ]
    },
    {
      "cell_type": "markdown",
      "metadata": {},
      "source": [
        "We will build a new grid that will be used to build a new interpolated\n",
        "grid.\n"
      ]
    },
    {
      "cell_type": "code",
      "execution_count": null,
      "metadata": {
        "collapsed": false
      },
      "outputs": [],
      "source": [
        "mx, my, mz, mu = numpy.meshgrid(numpy.arange(-125, -70, 0.5),\n",
        "                                numpy.arange(25, 50, 0.5),\n",
        "                                numpy.datetime64(\"2000-01-01T12:00\"),\n",
        "                                0.5,\n",
        "                                indexing=\"ij\")"
      ]
    },
    {
      "cell_type": "markdown",
      "metadata": {},
      "source": [
        "We interpolate our grid using a\n",
        "[classical](https://pangeo-pyinterp.readthedocs.io/en/latest/generated/pyinterp.backends.xarray.Grid4D.quadrivariate.html#pyinterp.backends.xarray.Grid4D.quadrivariate):"
      ]
    },
    {
      "cell_type": "code",
      "execution_count": null,
      "metadata": {
        "collapsed": false
      },
      "outputs": [],
      "source": [
        "quadrivariate = interpolator.quadrivariate(\n",
        "    dict(longitude=mx.flatten(),\n",
        "         latitude=my.flatten(),\n",
        "         time=mz.flatten(),\n",
        "         level=mu.flatten())).reshape(mx.shape)"
      ]
    },
    {
      "cell_type": "markdown",
      "metadata": {},
      "source": [
        "Bicubic on 4D grid\n",
        "==================\n",
        "\n",
        "The grid used organizes the latitudes in descending order. We ask our\n",
        "constructor to flip this axis in order to correctly evaluate the bicubic\n",
        "interpolation from this 4D cube (only necessary to perform a bicubic\n",
        "interpolation).\n"
      ]
    },
    {
      "cell_type": "code",
      "execution_count": null,
      "metadata": {
        "collapsed": false
      },
      "outputs": [],
      "source": [
        "interpolator = pyinterp.backends.xarray.Grid4D(ds.pressure,\n",
        "                                               increasing_axes=True)"
      ]
    },
    {
      "cell_type": "markdown",
      "metadata": {},
      "source": [
        "We interpolate our grid using a\n",
        "[bicubic](https://pangeo-pyinterp.readthedocs.io/en/latest/generated/pyinterp.backends.xarray.Grid4D.quadrivariate.html#pyinterp.backends.xarray.Grid4D.bicubic)\n",
        "interpolation in space followed by a linear interpolation in the temporal axis:\n"
      ]
    },
    {
      "cell_type": "code",
      "execution_count": null,
      "metadata": {
        "collapsed": false
      },
      "outputs": [],
      "source": [
        "bicubic = interpolator.bicubic(dict(longitude=mx.flatten(),\n",
        "                                    latitude=my.flatten(),\n",
        "                                    time=mz.flatten(),\n",
        "                                    level=mu.flatten()),\n",
        "                               nx=2,\n",
        "                               ny=2).reshape(mx.shape)"
      ]
    },
    {
      "cell_type": "markdown",
      "metadata": {},
      "source": [
        "We transform our result cubes into a matrix.\n"
      ]
    },
    {
      "cell_type": "code",
      "execution_count": null,
      "metadata": {
        "collapsed": false
      },
      "outputs": [],
      "source": [
        "quadrivariate = quadrivariate.squeeze(axis=(2, 3))\n",
        "bicubic = bicubic.squeeze(axis=(2, 3))\n",
        "lons = mx[:, 0].squeeze()\n",
        "lats = my[0, :].squeeze()"
      ]
    },
    {
      "cell_type": "markdown",
      "metadata": {},
      "source": [
        "Let's visualize our results.\n",
        "\n",
        "---\n",
        "**Note**\n",
        "\n",
        "The resolution of the example grid is very low (one pixel every one degree)\n",
        "therefore the calculation window cannot find the required pixels at the edges to\n",
        "calculate the interpolation correctly. See Chapter [Fill NaN\n",
        "Values](https://pangeo-pyinterp.readthedocs.io/en/latest/auto_examples/ex_fill_undef.html)\n",
        "to see how to address this issue.\n",
        "\n",
        "---"
      ]
    },
    {
      "cell_type": "code",
      "execution_count": null,
      "metadata": {
        "collapsed": false
      },
      "outputs": [],
      "source": [
        "fig = matplotlib.pyplot.figure(figsize=(5, 4))\n",
        "fig.patch.set_alpha(0.0)\n",
        "ax1 = fig.add_subplot(\n",
        "    211, projection=cartopy.crs.PlateCarree(central_longitude=180))\n",
        "pcm = ax1.pcolormesh(lons,\n",
        "                     lats,\n",
        "                     quadrivariate.T,\n",
        "                     cmap='jet',\n",
        "                     transform=cartopy.crs.PlateCarree())\n",
        "ax1.coastlines()\n",
        "ax1.set_title(\"Trilinear\")\n",
        "\n",
        "ax2 = fig.add_subplot(\n",
        "    212, projection=cartopy.crs.PlateCarree(central_longitude=180))\n",
        "pcm = ax2.pcolormesh(lons,\n",
        "                     lats,\n",
        "                     bicubic.T,\n",
        "                     cmap='jet',\n",
        "                     transform=cartopy.crs.PlateCarree())\n",
        "ax2.coastlines()\n",
        "ax2.set_title(\"Spline & Linear in time\")\n",
        "fig.colorbar(pcm, ax=[ax1, ax2], shrink=0.8)\n",
        "fig.show()"
      ]
    }
  ],
  "metadata": {
    "kernelspec": {
      "display_name": "Python 3",
      "language": "python",
      "name": "python3"
    },
    "language_info": {
      "codemirror_mode": {
        "name": "ipython",
        "version": 3
      },
      "file_extension": ".py",
      "mimetype": "text/x-python",
      "name": "python",
      "nbconvert_exporter": "python",
      "pygments_lexer": "ipython3",
      "version": "3.7.10"
    }
  },
  "nbformat": 4,
  "nbformat_minor": 0
}