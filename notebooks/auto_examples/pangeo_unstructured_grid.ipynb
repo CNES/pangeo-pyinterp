{
  "cells": [
    {
      "cell_type": "code",
      "execution_count": null,
      "metadata": {
        "collapsed": false
      },
      "outputs": [],
      "source": [
        "%matplotlib inline"
      ]
    },
    {
      "cell_type": "markdown",
      "metadata": {},
      "source": [
        "# Interpolation of LLC4320 ocean model\r\n\r\nInterpolation of LLC4320 ocean model\r\n\r\nThe interpolation of this object is based on a :py`R*Tree\r\n<pyinterp.RTree>`{.interpreted-text role=\"class\"} structure. To begin\r\nwith, we start by building this object. By default, this object\r\nconsiders the WGS-84 geodetic coordinate system. But you can define\r\nanother one using the class :py`System\r\n<pyinterp.geodetic.System>`{.interpreted-text role=\"class\"}.\r\n"
      ]
    },
    {
      "cell_type": "code",
      "execution_count": null,
      "metadata": {
        "collapsed": false
      },
      "outputs": [],
      "source": [
        "import numpy\nimport cartopy.crs\nimport cartopy.mpl.ticker\nimport intake\nimport matplotlib.pyplot"
      ]
    },
    {
      "cell_type": "code",
      "execution_count": null,
      "metadata": {
        "collapsed": false
      },
      "outputs": [],
      "source": [
        "import pyinterp\nmesh = pyinterp.RTree()"
      ]
    },
    {
      "cell_type": "markdown",
      "metadata": {},
      "source": [
        "Then, we will insert points into the tree. The class allows you to add\r\npoints using two algorithms. The first one, called :py`packing\r\n<pyinterp.RTree.packing>`{.interpreted-text role=\"meth\"}, will enable\r\nyou to enter the values in the tree at once. This mechanism is the\r\nrecommended solution to create an optimized in-memory structure, both in\r\nterms of construction time and queries. When this is not possible, you\r\ncan insert new information into the tree as you go along using the\r\ninsert method.\r\n"
      ]
    },
    {
      "cell_type": "code",
      "execution_count": null,
      "metadata": {
        "collapsed": false
      },
      "outputs": [],
      "source": [
        "cat_url = \"https://raw.githubusercontent.com/pangeo-data/pangeo-datastore\" \\\n    \"/master/intake-catalogs/ocean/llc4320.yaml\"\ncat = intake.open_catalog(cat_url)"
      ]
    },
    {
      "cell_type": "markdown",
      "metadata": {},
      "source": [
        "Grid subsampling (orginal volume is too huge for this example)\r\n"
      ]
    },
    {
      "cell_type": "code",
      "execution_count": null,
      "metadata": {
        "collapsed": false
      },
      "outputs": [],
      "source": [
        "indices = slice(0, None, 8)"
      ]
    },
    {
      "cell_type": "markdown",
      "metadata": {},
      "source": [
        "Reads longitudes and latitudes of the grid\r\n"
      ]
    },
    {
      "cell_type": "code",
      "execution_count": null,
      "metadata": {
        "collapsed": false
      },
      "outputs": [],
      "source": [
        "array = cat.LLC4320_grid.to_dask()\nlons = array[\"XC\"].isel(i=indices, j=indices)\nlats = array[\"YC\"].isel(i=indices, j=indices)"
      ]
    },
    {
      "cell_type": "markdown",
      "metadata": {},
      "source": [
        "Reads SSH values for the first time step of the time series\r\n"
      ]
    },
    {
      "cell_type": "code",
      "execution_count": null,
      "metadata": {
        "collapsed": false
      },
      "outputs": [],
      "source": [
        "ssh = cat.LLC4320_SSH.to_dask()\nssh = ssh[\"Eta\"].isel(time=0, i=indices, j=indices)"
      ]
    },
    {
      "cell_type": "markdown",
      "metadata": {},
      "source": [
        "Populates the search tree\r\n"
      ]
    },
    {
      "cell_type": "code",
      "execution_count": null,
      "metadata": {
        "collapsed": false
      },
      "outputs": [],
      "source": [
        "mesh.packing(\n    numpy.vstack((lons.values.flatten(), lats.values.flatten())).T,\n    ssh.values.flatten())"
      ]
    },
    {
      "cell_type": "markdown",
      "metadata": {},
      "source": [
        "When the tree is created, you can interpolate data with two algorithms:\r\n\r\n-   :py`Inverse Distance Weighting\r\n    <pyinterp.RTree.inverse_distance_weighting>`{.interpreted-text\r\n    role=\"meth\"} or IDW\r\n-   :py`Radial Basis Function\r\n    <pyinterp.RTree.radial_basis_function>`{.interpreted-text\r\n    role=\"meth\"} or RBF\r\n\r\nYon can also search the\r\n:py`nearest neighbors <pyinterp.RTree.query>`{.interpreted-text\r\nrole=\"meth\"} on the tree.\r\n\r\n::: {.note}\r\n::: {.title}\r\nNote\r\n:::\r\n\r\nWhen comparing an RBF to IDW, IDW will never predict values higher than\r\nthe maximum measured value or lower than the minimum measured value.\r\nHowever, RBFs can predict values higher than the maximum values and\r\nlower than the minimum measured values.\r\n:::\r\n\r\nIn this example, we will under-sample the source grid at 1/32 degree\r\nover an area of the globe.\r\n"
      ]
    },
    {
      "cell_type": "code",
      "execution_count": null,
      "metadata": {
        "collapsed": false
      },
      "outputs": [],
      "source": [
        "x0, x1 = 80, 170\ny0, y1 = -45, 30\nres = 1 / 32.0\nmx, my = numpy.meshgrid(numpy.arange(x0, x1, res),\n                        numpy.arange(y0, y1, res),\n                        indexing=\"ij\")"
      ]
    },
    {
      "cell_type": "markdown",
      "metadata": {},
      "source": [
        "IDW interpolation\r\n"
      ]
    },
    {
      "cell_type": "code",
      "execution_count": null,
      "metadata": {
        "collapsed": false
      },
      "outputs": [],
      "source": [
        "idw_eta, neighbors = mesh.inverse_distance_weighting(\n    numpy.vstack((mx.flatten(), my.flatten())).T,\n    within=False,  # Extrapolation is forbidden\n    radius=55000,  # In a radius of 5.5 Km\n    k=8,  # We are looking for at most 8 neighbours\n    num_threads=0)\nidw_eta = idw_eta.reshape(mx.shape)"
      ]
    },
    {
      "cell_type": "markdown",
      "metadata": {},
      "source": [
        "RBF interpolation\r\n"
      ]
    },
    {
      "cell_type": "code",
      "execution_count": null,
      "metadata": {
        "collapsed": false
      },
      "outputs": [],
      "source": [
        "rbf_eta, neighbors = mesh.radial_basis_function(\n    numpy.vstack((mx.flatten(), my.flatten())).T,\n    within=False,  # Extrapolation is forbidden\n    k=11,  # We are looking for at most 11 neighbours\n    num_threads=0)\nrbf_eta = rbf_eta.reshape(mx.shape)"
      ]
    },
    {
      "cell_type": "markdown",
      "metadata": {},
      "source": [
        "Let\\'s visualize our interpolated data\r\n"
      ]
    },
    {
      "cell_type": "code",
      "execution_count": null,
      "metadata": {
        "collapsed": false
      },
      "outputs": [],
      "source": [
        "fig = matplotlib.pyplot.figure(figsize=(18, 9))\nfig.patch.set_alpha(0.0)\nlon_formatter = cartopy.mpl.ticker.LongitudeFormatter(\n    zero_direction_label=True)\nlat_formatter = cartopy.mpl.ticker.LatitudeFormatter()\nax = fig.add_subplot(121, projection=cartopy.crs.PlateCarree())\nax.pcolormesh(mx,\n              my,\n              idw_eta,\n              cmap='terrain',\n              transform=cartopy.crs.PlateCarree())\nax.coastlines()\nax.xaxis.set_major_formatter(lon_formatter)\nax.yaxis.set_major_formatter(lat_formatter)\nax.set_xticks(numpy.arange(x0, x1, 10.0))\nax.set_yticks(numpy.arange(y0, y1, 10))\nax.set_title(\"Eta (IDW)\")\n\nax = fig.add_subplot(122, projection=cartopy.crs.PlateCarree())\nax.pcolormesh(mx,\n              my,\n              rbf_eta,\n              cmap='terrain',\n              transform=cartopy.crs.PlateCarree())\nax.coastlines()\nax.xaxis.set_major_formatter(lon_formatter)\nax.yaxis.set_major_formatter(lat_formatter)\nax.set_xticks(numpy.arange(x0, x1, 10.0))\nax.set_yticks(numpy.arange(y0, y1, 10))\nax.set_title(\"Eta (RBF)\")\nfig.show()"
      ]
    },
    {
      "cell_type": "markdown",
      "metadata": {},
      "source": [
        "The image below illustrates the result of the IDW interpolation:\r\n\r\n![](../pictures/mit_gcm.png){.align-center}\r\n"
      ]
    }
  ],
  "metadata": {
    "kernelspec": {
      "display_name": "Python 3",
      "language": "python",
      "name": "python3"
    },
    "language_info": {
      "codemirror_mode": {
        "name": "ipython",
        "version": 3
      },
      "file_extension": ".py",
      "mimetype": "text/x-python",
      "name": "python",
      "nbconvert_exporter": "python",
      "pygments_lexer": "ipython3",
      "version": "3.6.7"
    }
  },
  "nbformat": 4,
  "nbformat_minor": 0
}