{
 "cells": [
  {
   "cell_type": "code",
   "execution_count": null,
   "metadata": {},
   "outputs": [],
   "source": [
    "%matplotlib inline"
   ]
  },
  {
   "cell_type": "markdown",
   "metadata": {},
   "source": [
    "# Binning\n",
    "\n",
    "## Binning2D\n",
    "\n",
    "Statistical data binning is a way to group several more or less\n",
    "continuous values into a smaller number of *bins*. For example, if you\n",
    "have irregularly distributed data over the oceans, you can organize\n",
    "these observations into a lower number of geographical intervals (for\n",
    "example, by grouping them all five degrees into latitudes and\n",
    "longitudes).\n",
    "\n",
    "In this example, we will calculate drifter velocity statistics on the\n",
    "Black Sea over a period of 9 years."
   ]
  },
  {
   "cell_type": "code",
   "execution_count": null,
   "metadata": {},
   "outputs": [],
   "source": [
    "import cartopy.crs\n",
    "import matplotlib\n",
    "import matplotlib.pyplot\n",
    "import numpy\n",
    "import pyinterp\n",
    "import pyinterp.backends.xarray\n",
    "import pyinterp.tests\n",
    "import xarray"
   ]
  },
  {
   "cell_type": "markdown",
   "metadata": {},
   "source": [
    "The first step is to load the data into memory and create the\n",
    "interpolator object:"
   ]
  },
  {
   "cell_type": "code",
   "execution_count": null,
   "metadata": {},
   "outputs": [],
   "source": [
    "ds = xarray.open_dataset(pyinterp.tests.aoml_path())"
   ]
  },
  {
   "cell_type": "markdown",
   "metadata": {},
   "source": [
    "Let's start by calculating the standard for vectors u and v."
   ]
  },
  {
   "cell_type": "code",
   "execution_count": null,
   "metadata": {},
   "outputs": [],
   "source": [
    "norm = (ds.ud**2 + ds.vd**2)**0.5"
   ]
  },
  {
   "cell_type": "markdown",
   "metadata": {},
   "source": [
    "Now, we will describe the grid used to calculate our\n",
    "[binned](https://pangeo-pyinterp.readthedocs.io/en/latest/generated/pyinterp.Binning2D.html#pyinterp.Binning2D)\n",
    "statics."
   ]
  },
  {
   "cell_type": "code",
   "execution_count": null,
   "metadata": {},
   "outputs": [],
   "source": [
    "binning = pyinterp.Binning2D(\n",
    "    pyinterp.Axis(numpy.arange(27, 42, 0.3), is_circle=True),\n",
    "    pyinterp.Axis(numpy.arange(40, 47, 0.3)))\n",
    "binning"
   ]
  },
  {
   "cell_type": "markdown",
   "metadata": {},
   "source": [
    "We push the loaded data into the different defined bins using [simple\n",
    "binning](https://pangeo-pyinterp.readthedocs.io/en/latest/generated/pyinterp.Binning2D.push.html#bilinear-binning)."
   ]
  },
  {
   "cell_type": "code",
   "execution_count": null,
   "metadata": {},
   "outputs": [],
   "source": [
    "binning.clear()\n",
    "binning.push(ds.lon, ds.lat, norm, True)"
   ]
  },
  {
   "cell_type": "markdown",
   "metadata": {},
   "source": [
    "It is possible to retrieve other statistical\n",
    "[variables](https://pangeo-pyinterp.readthedocs.io/en/latest/generated/pyinterp.Binning2D.variable.html#pyinterp.Binning2D.variable)\n",
    "such as variance, minimum, maximum, etc."
   ]
  },
  {
   "cell_type": "code",
   "execution_count": null,
   "metadata": {},
   "outputs": [],
   "source": [
    "nearest = binning.variable('mean')"
   ]
  },
  {
   "cell_type": "markdown",
   "metadata": {},
   "source": [
    "Then, we push the loaded data into the different defined bins using\n",
    "[linear binning](https://pangeo-pyinterp.readthedocs.io/en/latest/generated/pyinterp.Binning2D.push.html#bilinear-binning)"
   ]
  },
  {
   "cell_type": "code",
   "execution_count": null,
   "metadata": {},
   "outputs": [],
   "source": [
    "binning.clear()\n",
    "binning.push(ds.lon, ds.lat, norm, False)\n",
    "linear = binning.variable('mean')"
   ]
  },
  {
   "cell_type": "markdown",
   "metadata": {},
   "source": [
    "We visualize our result"
   ]
  },
  {
   "cell_type": "code",
   "execution_count": null,
   "metadata": {},
   "outputs": [],
   "source": [
    "fig = matplotlib.pyplot.figure(figsize=(10, 8))\n",
    "ax1 = fig.add_subplot(211, projection=cartopy.crs.PlateCarree())\n",
    "lon, lat = numpy.meshgrid(binning.x, binning.y, indexing='ij')\n",
    "pcm = ax1.pcolormesh(lon,\n",
    "                     lat,\n",
    "                     nearest,\n",
    "                     cmap='jet',\n",
    "                     shading='auto',\n",
    "                     vmin=0,\n",
    "                     vmax=1,\n",
    "                     transform=cartopy.crs.PlateCarree())\n",
    "ax1.coastlines()\n",
    "ax1.set_title(\"Simple binning.\")\n",
    "\n",
    "ax2 = fig.add_subplot(212, projection=cartopy.crs.PlateCarree())\n",
    "lon, lat = numpy.meshgrid(binning.x, binning.y, indexing='ij')\n",
    "pcm = ax2.pcolormesh(lon,\n",
    "                     lat,\n",
    "                     linear,\n",
    "                     cmap='jet',\n",
    "                     shading='auto',\n",
    "                     vmin=0,\n",
    "                     vmax=1,\n",
    "                     transform=cartopy.crs.PlateCarree())\n",
    "ax2.coastlines()\n",
    "ax2.set_title(\"Linear binning.\")\n",
    "fig.colorbar(pcm, ax=[ax1, ax2], shrink=0.8)\n",
    "fig.show()"
   ]
  },
  {
   "cell_type": "markdown",
   "metadata": {},
   "source": [
    "## Histogram2D\n",
    "\n",
    "This class, like the previous one, allows calculating a binning using\n",
    "histograms. In addition, this approach calculates the quantiles of the\n",
    "distribution and obtains the median value of the pixels.\n",
    "\n",
    "Note that the algorithm used defines a maximum size of the number of bins\n",
    "handled by each histogram. If the number of observations is greater than the\n",
    "capacity of the histogram, the histogram will be compressed to best present\n",
    "this distribution in limited memory size. The description of the exact\n",
    "algorithm is in the article [A Streaming Parallel Decision Tree Algorithm](\n",
    "(http://jmlr.org/papers/v11/ben-haim10a.html)."
   ]
  },
  {
   "cell_type": "code",
   "execution_count": null,
   "metadata": {},
   "outputs": [],
   "source": [
    "hist2d = pyinterp.Histogram2D(\n",
    "    pyinterp.Axis(numpy.arange(27, 42, 0.3), is_circle=True),\n",
    "    pyinterp.Axis(numpy.arange(40, 47, 0.3)))\n",
    "hist2d"
   ]
  },
  {
   "cell_type": "markdown",
   "metadata": {},
   "source": [
    "We push the loaded data into the different defined bins using the method\n",
    "`push`."
   ]
  },
  {
   "cell_type": "code",
   "execution_count": null,
   "metadata": {},
   "outputs": [],
   "source": [
    "hist2d.push(ds.lon, ds.lat, norm)"
   ]
  },
  {
   "cell_type": "markdown",
   "metadata": {},
   "source": [
    "We visualize the mean vs median of the distribution."
   ]
  },
  {
   "cell_type": "code",
   "execution_count": null,
   "metadata": {},
   "outputs": [],
   "source": [
    "fig = matplotlib.pyplot.figure(figsize=(10, 8))\n",
    "ax1 = fig.add_subplot(211, projection=cartopy.crs.PlateCarree())\n",
    "lon, lat = numpy.meshgrid(binning.x, binning.y, indexing='ij')\n",
    "pcm = ax1.pcolormesh(lon,\n",
    "                     lat,\n",
    "                     hist2d.variable(\"mean\"),\n",
    "                     cmap='jet',\n",
    "                     shading='auto',\n",
    "                     vmin=0,\n",
    "                     vmax=1,\n",
    "                     transform=cartopy.crs.PlateCarree())\n",
    "ax1.coastlines()\n",
    "ax1.set_title(\"Mean\")\n",
    "\n",
    "ax2 = fig.add_subplot(212, projection=cartopy.crs.PlateCarree())\n",
    "lon, lat = numpy.meshgrid(binning.x, binning.y, indexing='ij')\n",
    "pcm = ax2.pcolormesh(lon,\n",
    "                     lat,\n",
    "                     hist2d.variable(\"quantile\", 0.5),\n",
    "                     cmap='jet',\n",
    "                     shading='auto',\n",
    "                     vmin=0,\n",
    "                     vmax=1,\n",
    "                     transform=cartopy.crs.PlateCarree())\n",
    "ax2.coastlines()\n",
    "ax2.set_title(\"Median\")\n",
    "fig.colorbar(pcm, ax=[ax1, ax2], shrink=0.8)\n",
    "fig.show()"
   ]
  }
 ],
 "metadata": {
  "kernelspec": {
   "display_name": "Python 3 (ipykernel)",
   "language": "python",
   "name": "python3"
  },
  "language_info": {
   "codemirror_mode": {
    "name": "ipython",
    "version": 3
   },
   "file_extension": ".py",
   "mimetype": "text/x-python",
   "name": "python",
   "nbconvert_exporter": "python",
   "pygments_lexer": "ipython3",
   "version": "3.8.11"
  }
 },
 "nbformat": 4,
 "nbformat_minor": 1
}
