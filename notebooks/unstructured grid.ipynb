{
 "cells": [
  {
   "cell_type": "markdown",
   "metadata": {},
   "source": [
    "# Unstructured grid"
   ]
  },
  {
   "cell_type": "markdown",
   "metadata": {},
   "source": [
    "## Reading data from a mesh.\n",
    "\n",
    "Here we read the data from the ocean model MIT/GCM/LLC4320"
   ]
  },
  {
   "cell_type": "code",
   "execution_count": null,
   "metadata": {},
   "outputs": [],
   "source": [
    "import intake\n",
    "\n",
    "cat_url = \"https://raw.githubusercontent.com/pangeo-data/pangeo-datastore/master/intake-catalogs/ocean/llc4320.yaml\"\n",
    "cat = intake.Catalog(cat_url)"
   ]
  },
  {
   "cell_type": "markdown",
   "metadata": {},
   "source": [
    "Reading of the grid positions. The grid is under-sampled because the volume of data is very large."
   ]
  },
  {
   "cell_type": "code",
   "execution_count": null,
   "metadata": {},
   "outputs": [],
   "source": [
    "grid = cat.LLC4320_grid.to_dask()\n",
    "grid"
   ]
  },
  {
   "cell_type": "code",
   "execution_count": null,
   "metadata": {},
   "outputs": [],
   "source": [
    "lons = grid[\"XC\"].isel(i=slice(0, None, 8), j=slice(0, None, 8)).values\n",
    "lats = grid[\"YC\"].isel(i=slice(0, None, 8), j=slice(0, None, 8)).values"
   ]
  },
  {
   "cell_type": "code",
   "execution_count": null,
   "metadata": {},
   "outputs": [],
   "source": [
    "del grid"
   ]
  },
  {
   "cell_type": "markdown",
   "metadata": {},
   "source": [
    "Reading data. We get one time frame only."
   ]
  },
  {
   "cell_type": "code",
   "execution_count": null,
   "metadata": {},
   "outputs": [],
   "source": [
    "ssh = cat.LLC4320_SSH.to_dask()\n",
    "ssh = ssh[\"Eta\"].isel(time=0, i=slice(0, None, 8), j=slice(0, None, 8)).values"
   ]
  },
  {
   "cell_type": "markdown",
   "metadata": {},
   "source": [
    "## R\\*Tree\n",
    "\n",
    "The interpolation of this object is based on an [R\\*Tree](https://pangeo-pyinterp.readthedocs.io/en/latest/api/pyinterp.rtree.html#pyinterp.rtree.RTree) structure. To begin with, we start by building this object. By default, this object considers WGS-84 geodetic coordinate system. But you can define another one using class [System](https://pangeo-pyinterp.readthedocs.io/en/latest/api/pyinterp.geodetic.html#pyinterp.geodetic.System)."
   ]
  },
  {
   "cell_type": "code",
   "execution_count": null,
   "metadata": {},
   "outputs": [],
   "source": [
    "import pyinterp.rtree\n",
    "mesh = pyinterp.rtree.RTree()"
   ]
  },
  {
   "cell_type": "markdown",
   "metadata": {},
   "source": [
    "## Creating the search tree\n",
    "\n",
    "Then, we will insert points into the tree. The class allows you to insert points using two algorithms. The first one called [packing](https://pangeo-pyinterp.readthedocs.io/en/latest/api/pyinterp.rtree.html#pyinterp.rtree.RTree.packing) allows you to insert the values in the tree at once. This mechanism is the recommended solution to create an optimized in-memory structure, both in terms of construction time and queries. When this is not possible, you can insert new information into the tree as you go along using the [insert](https://pangeo-pyinterp.readthedocs.io/en/latest/api/pyinterp.rtree.html#pyinterp.rtree.RTree.insert) method."
   ]
  },
  {
   "cell_type": "code",
   "execution_count": null,
   "metadata": {},
   "outputs": [],
   "source": [
    "import numpy as  np\n",
    "\n",
    "mesh.packing(\n",
    "    np.vstack((lons.flatten(), lats.flatten())).T,\n",
    "    ssh.flatten())"
   ]
  },
  {
   "cell_type": "markdown",
   "metadata": {},
   "source": [
    "When the tree is created, you can [interpolate](https://pangeo-pyinterp.readthedocs.io/en/latest/api/pyinterp.rtree.html#pyinterp.rtree.RTree.inverse_distance_weighting) the data or make various [queries](https://pangeo-pyinterp.readthedocs.io/en/latest/api/pyinterp.rtree.html#pyinterp.rtree.RTree.query) on the tree."
   ]
  },
  {
   "cell_type": "code",
   "execution_count": null,
   "metadata": {},
   "outputs": [],
   "source": [
    "mx, my = np.meshgrid(\n",
    "    np.arange(-180, 180, 0.25),\n",
    "    np.arange(-90, 90, 0.25),\n",
    "    indexing=\"ij\")\n",
    "\n",
    "mss, neighbors = mesh.inverse_distance_weighting(\n",
    "    np.vstack((mx.flatten(), my.flatten())).T,\n",
    "    within=False,\n",
    "    radius=35434,\n",
    "    k=8,\n",
    "    num_threads=0)"
   ]
  },
  {
   "cell_type": "markdown",
   "metadata": {},
   "source": [
    "Let's visualize our interpolated data"
   ]
  },
  {
   "cell_type": "code",
   "execution_count": null,
   "metadata": {},
   "outputs": [],
   "source": [
    "import matplotlib.pyplot as plt\n",
    "import cartopy.crs as ccrs\n",
    "%matplotlib inline\n",
    "\n",
    "fig = plt.figure(figsize=(18, 9))\n",
    "ax = fig.add_subplot(111, projection=ccrs.PlateCarree())\n",
    "ax.pcolormesh(mx, my, mss.reshape(mx.shape), cmap='jet',\n",
    "              transform=ccrs.PlateCarree())\n",
    "ax.coastlines()\n",
    "ax.set_title(\"Eta\")"
   ]
  },
  {
   "cell_type": "code",
   "execution_count": null,
   "metadata": {},
   "outputs": [],
   "source": []
  }
 ],
 "metadata": {
  "kernelspec": {
   "display_name": "Python 3",
   "language": "python",
   "name": "python3"
  },
  "language_info": {
   "codemirror_mode": {
    "name": "ipython",
    "version": 3
   },
   "file_extension": ".py",
   "mimetype": "text/x-python",
   "name": "python",
   "nbconvert_exporter": "python",
   "pygments_lexer": "ipython3",
   "version": "3.7.4"
  }
 },
 "nbformat": 4,
 "nbformat_minor": 2
}
