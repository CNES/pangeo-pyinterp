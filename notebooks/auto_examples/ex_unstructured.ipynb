{
  "cells": [
    {
      "cell_type": "code",
      "execution_count": null,
      "metadata": {
        "collapsed": false
      },
      "outputs": [],
      "source": [
        "%matplotlib inline"
      ]
    },
    {
      "cell_type": "markdown",
      "metadata": {},
      "source": [
        "# Unstructured grid\r\n\r\nInterpolation of unstructured grids.\r\n\r\nThe interpolation of this object is based on a :py`R*Tree\r\n<pyinterp.RTree>`{.interpreted-text role=\"class\"} structure. To begin\r\nwith, we start by building this object. By default, this object\r\nconsiders the WGS-84 geodetic coordinate system. But you can define\r\nanother one using the class :py`System\r\n<pyinterp.geodetic.System>`{.interpreted-text role=\"class\"}.\r\n"
      ]
    },
    {
      "cell_type": "code",
      "execution_count": null,
      "metadata": {
        "collapsed": false
      },
      "outputs": [],
      "source": [
        "import matplotlib.pyplot\nimport numpy\nimport pyinterp\n\nmesh = pyinterp.RTree()"
      ]
    },
    {
      "cell_type": "markdown",
      "metadata": {},
      "source": [
        "Then, we will insert points into the tree. The class allows you to add\r\npoints using two algorithms. The first one, called :py`packing\r\n<pyinterp.RTree.packing>`{.interpreted-text role=\"meth\"}, will enable\r\nyou to enter the values in the tree at once. This mechanism is the\r\nrecommended solution to create an optimized in-memory structure, both in\r\nterms of construction time and queries. When this is not possible, you\r\ncan insert new information into the tree as you go along using the\r\ninsert method.\r\n"
      ]
    },
    {
      "cell_type": "code",
      "execution_count": null,
      "metadata": {
        "collapsed": false
      },
      "outputs": [],
      "source": [
        "SIZE = 2000\nX0, X1 = 80, 170\nY0, Y1 = -45, 30\nlons = numpy.random.uniform(low=X0, high=X1, size=(SIZE, ))\nlats = numpy.random.uniform(low=Y0, high=Y1, size=(SIZE, ))\ndata = numpy.random.random(size=(SIZE, ))"
      ]
    },
    {
      "cell_type": "markdown",
      "metadata": {},
      "source": [
        "Populates the search tree\r\n"
      ]
    },
    {
      "cell_type": "code",
      "execution_count": null,
      "metadata": {
        "collapsed": false
      },
      "outputs": [],
      "source": [
        "mesh.packing(numpy.vstack((lons, lats)).T, data)"
      ]
    },
    {
      "cell_type": "markdown",
      "metadata": {},
      "source": [
        "When the tree is created, you can interpolate data with two algorithms:\r\n\r\n-   :py`Inverse Distance Weighting\r\n    <pyinterp.RTree.inverse_distance_weighting>`{.interpreted-text\r\n    role=\"meth\"} or IDW\r\n-   :py`Radial Basis Function\r\n    <pyinterp.RTree.radial_basis_function>`{.interpreted-text\r\n    role=\"meth\"} or RBF\r\n\r\n::: {.note}\r\n::: {.title}\r\nNote\r\n:::\r\n\r\nWhen comparing an RBF to IDW, IDW will never predict values higher than\r\nthe maximum measured value or lower than the minimum measured value.\r\nHowever, RBFs can predict values higher than the maximum values and\r\nlower than the minimum measured values.\r\n:::\r\n\r\nWe start by interpolating using the IDW method\r\n"
      ]
    },
    {
      "cell_type": "code",
      "execution_count": null,
      "metadata": {
        "collapsed": false
      },
      "outputs": [],
      "source": [
        "STEP = 1 / 32\nmx, my = numpy.meshgrid(numpy.arange(X0, X1 + STEP, STEP),\n                        numpy.arange(Y0, Y1 + STEP, STEP),\n                        indexing=\"ij\")\n\nidw, neighbors = mesh.inverse_distance_weighting(\n    numpy.vstack((mx.flatten(), my.flatten())).T,\n    within=False,  # Extrapolation is forbidden\n    k=11,  # We are looking for at most 11 neighbours\n    num_threads=0)\nidw = idw.reshape(mx.shape)"
      ]
    },
    {
      "cell_type": "markdown",
      "metadata": {},
      "source": [
        "The with the RBF method\r\n"
      ]
    },
    {
      "cell_type": "code",
      "execution_count": null,
      "metadata": {
        "collapsed": false
      },
      "outputs": [],
      "source": [
        "rbf, neighbors = mesh.radial_basis_function(\n    numpy.vstack((mx.flatten(), my.flatten())).T,\n    within=False,  # Extrapolation is forbidden\n    k=11,  # We are looking for at most 11 neighbours\n    rbf=\"linear\",\n    num_threads=0)\nrbf = rbf.reshape(mx.shape)"
      ]
    },
    {
      "cell_type": "markdown",
      "metadata": {},
      "source": [
        "Let\\'s visualize our interpolated data\r\n"
      ]
    },
    {
      "cell_type": "code",
      "execution_count": null,
      "metadata": {
        "collapsed": false
      },
      "outputs": [],
      "source": [
        "fig = matplotlib.pyplot.figure(figsize=(10, 8))\nfig.patch.set_alpha(0.0)\nax1 = fig.add_subplot(211)\npcm = ax1.pcolormesh(mx, my, idw, cmap='jet', shading='auto', vmin=0, vmax=1)\nax1.set_title(\"IDW interpolation\")\nax2 = fig.add_subplot(212)\npcm = ax2.pcolormesh(mx, my, rbf, cmap='jet', shading='auto', vmin=0, vmax=1)\nax2.set_title(\"RBF interpolation\")\nfig.colorbar(pcm, ax=[ax1, ax2], shrink=0.8)\nfig.show()"
      ]
    }
  ],
  "metadata": {
    "kernelspec": {
      "display_name": "Python 3",
      "language": "python",
      "name": "python3"
    },
    "language_info": {
      "codemirror_mode": {
        "name": "ipython",
        "version": 3
      },
      "file_extension": ".py",
      "mimetype": "text/x-python",
      "name": "python",
      "nbconvert_exporter": "python",
      "pygments_lexer": "ipython3",
      "version": "3.6.7"
    }
  },
  "nbformat": 4,
  "nbformat_minor": 0
}