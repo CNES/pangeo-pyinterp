{
 "cells": [
  {
   "cell_type": "code",
   "execution_count": null,
   "source": [
    "%matplotlib inline"
   ],
   "outputs": [],
   "metadata": {}
  },
  {
   "cell_type": "markdown",
   "source": [
    "Fill NaN values\n",
    "============\n",
    "\n",
    "The undefined values in the grids do not allow interpolation of values\n",
    "located in the neighborhood. This behavior is a concern when you need to\n",
    "interpolate values near the land/sea mask of some maps."
   ],
   "metadata": {}
  },
  {
   "cell_type": "code",
   "execution_count": null,
   "source": [
    "import cartopy.crs\n",
    "import cartopy.feature\n",
    "import matplotlib.pyplot\n",
    "import numpy\n",
    "import pyinterp.backends.xarray\n",
    "# Module that handles the filling of undefined values.\n",
    "import pyinterp.fill\n",
    "import pyinterp.tests\n",
    "import xarray"
   ],
   "outputs": [],
   "metadata": {}
  },
  {
   "cell_type": "markdown",
   "source": [
    "For example, in the figure above, if you want to interpolate the gray\n",
    "point with a bilinear interpolation, the undefined red value, set to\n",
    "NaN, will not allow its calculation (the result of the arithmetic\n",
    "operation using a value equal to NaN is NaN). On the other hand, the\n",
    "green point can be interpolated normally because the 4 surrounding\n",
    "points are defined."
   ],
   "metadata": {}
  },
  {
   "cell_type": "code",
   "execution_count": null,
   "source": [
    "fig = matplotlib.pyplot.figure(figsize=(10, 8))\n",
    "ax = fig.add_subplot(111, projection=cartopy.crs.PlateCarree())\n",
    "ax.set_extent([-6, 1, 47.5, 51.5], crs=cartopy.crs.PlateCarree())\n",
    "ax.add_feature(cartopy.feature.LAND.with_scale('110m'))\n",
    "ax.gridlines(draw_labels=True, dms=True, x_inline=False, y_inline=False)\n",
    "\n",
    "lons, lats = numpy.meshgrid(numpy.arange(-6, 2),\n",
    "                            numpy.arange(47.5, 52.5),\n",
    "                            indexing='ij')\n",
    "mask = numpy.array([\n",
    "    [1, 1, 1, 0, 0, 0, 0, 0],  # yapf: disable\n",
    "    [1, 1, 0, 0, 0, 0, 0, 0],  # yapf: disable\n",
    "    [1, 1, 1, 1, 1, 1, 0, 0],  # yapf: disable\n",
    "    [1, 0, 0, 1, 1, 1, 1, 1],  # yapf: disable\n",
    "    [1, 1, 1, 0, 0, 0, 0, 0]\n",
    "]).T\n",
    "ax.scatter(lons.flatten(),\n",
    "           lats.flatten(),\n",
    "           c=mask,\n",
    "           cmap=\"bwr_r\",\n",
    "           transform=cartopy.crs.PlateCarree(),\n",
    "           vmin=0,\n",
    "           vmax=1)\n",
    "ax.plot([-3.5], [49], linestyle='', marker='.', color='dimgray', markersize=15)\n",
    "ax.plot([-2.5], [50], linestyle='', marker='.', color='green', markersize=15)\n",
    "fig.show()"
   ],
   "outputs": [],
   "metadata": {}
  },
  {
   "cell_type": "markdown",
   "source": [
    "To overcome this problem, the library provides methods to fill undefined\n",
    "values.\n",
    "\n",
    "---\n",
    "**Note**\n",
    "\n",
    "In the case of an interpolation of the nearest neighbor the undefined\n",
    "values have no impact because no arithmetic operation is done on the\n",
    "grid values: we just return the value of the nearest point.\n",
    "\n",
    "---\n",
    "\n",
    "LOESS\n",
    "--------\n",
    "\n",
    "The\n",
    "[first](https://pangeo-pyinterp.readthedocs.io/en/latest/generated/pyinterp.fill.loess.html?highlight=loess#pyinterp.fill.loess)\n",
    "method applies a weighted local regression to extrapolate the boundary\n",
    "between defined and undefined values. The user must indicate the number\n",
    "of pixels on the X and Y axes to be considered in the calculation.\n",
    "\n",
    "Let's start by building the object handling our grid."
   ],
   "metadata": {}
  },
  {
   "cell_type": "code",
   "execution_count": null,
   "source": [
    "ds = xarray.open_dataset(pyinterp.tests.grid2d_path())\n",
    "grid = pyinterp.backends.xarray.Grid2D(ds.mss)"
   ],
   "outputs": [],
   "metadata": {}
  },
  {
   "cell_type": "markdown",
   "source": [
    "The function filling the holes near the mask is called"
   ],
   "metadata": {}
  },
  {
   "cell_type": "code",
   "execution_count": null,
   "source": [
    "filled = pyinterp.fill.loess(grid, nx=3, ny=3)"
   ],
   "outputs": [],
   "metadata": {}
  },
  {
   "cell_type": "markdown",
   "source": [
    "The image below illustrates the result:"
   ],
   "metadata": {}
  },
  {
   "cell_type": "code",
   "execution_count": null,
   "source": [
    "fig = matplotlib.pyplot.figure()\n",
    "ax1 = fig.add_subplot(\n",
    "    211, projection=cartopy.crs.PlateCarree(central_longitude=180))\n",
    "lons, lats = numpy.meshgrid(grid.x, grid.y, indexing='ij')\n",
    "pcm = ax1.pcolormesh(lons,\n",
    "                     lats,\n",
    "                     ds.mss.T,\n",
    "                     cmap='jet',\n",
    "                     transform=cartopy.crs.PlateCarree(),\n",
    "                     vmin=-0.1,\n",
    "                     vmax=0.1)\n",
    "ax1.coastlines()\n",
    "ax1.set_title(\"Original MSS\")\n",
    "ax1.set_extent([0, 170, -45, 30], crs=cartopy.crs.PlateCarree())\n",
    "ax2 = fig.add_subplot(\n",
    "    212, projection=cartopy.crs.PlateCarree(central_longitude=180))\n",
    "pcm = ax2.pcolormesh(lons,\n",
    "                     lats,\n",
    "                     filled,\n",
    "                     cmap='jet',\n",
    "                     transform=cartopy.crs.PlateCarree(),\n",
    "                     vmin=-0.1,\n",
    "                     vmax=0.1)\n",
    "ax2.coastlines()\n",
    "ax2.set_title(\"MSS modified using the LOESS filter\")\n",
    "ax2.set_extent([0, 170, -45, 30], crs=cartopy.crs.PlateCarree())\n",
    "fig.colorbar(pcm, ax=[ax1, ax2], shrink=0.8)\n",
    "fig.show()"
   ],
   "outputs": [],
   "metadata": {}
  },
  {
   "cell_type": "markdown",
   "source": [
    "Gauss-Seidel\n",
    "----------------\n",
    "\n",
    "The\n",
    "[second](https://pangeo-pyinterp.readthedocs.io/en/latest/generated/pyinterp.fill.gauss_seidel.html)\n",
    "method consists of replacing all undefined values (NaN) in a grid using the\n",
    "Gauss-Seidel method by relaxation. This\n",
    "[link](https://math.berkeley.edu/~wilken/228A.F07/chr_lecture.pdf) contains more\n",
    "information on the method used."
   ],
   "metadata": {}
  },
  {
   "cell_type": "code",
   "execution_count": null,
   "source": [
    "has_converged, filled = pyinterp.fill.gauss_seidel(grid)"
   ],
   "outputs": [],
   "metadata": {}
  },
  {
   "cell_type": "markdown",
   "source": [
    "The image below illustrates the result:"
   ],
   "metadata": {}
  },
  {
   "cell_type": "code",
   "execution_count": null,
   "source": [
    "fig = matplotlib.pyplot.figure(figsize=(10, 10))\n",
    "ax1 = fig.add_subplot(\n",
    "    211, projection=cartopy.crs.PlateCarree(central_longitude=180))\n",
    "pcm = ax1.pcolormesh(lons,\n",
    "                     lats,\n",
    "                     ds.mss.T,\n",
    "                     cmap='jet',\n",
    "                     transform=cartopy.crs.PlateCarree(),\n",
    "                     vmin=-0.1,\n",
    "                     vmax=0.1)\n",
    "ax1.coastlines()\n",
    "ax1.set_title(\"Original MSS\")\n",
    "ax1.set_extent([0, 170, -45, 30], crs=cartopy.crs.PlateCarree())\n",
    "ax2 = fig.add_subplot(\n",
    "    212, projection=cartopy.crs.PlateCarree(central_longitude=180))\n",
    "pcm = ax2.pcolormesh(lons,\n",
    "                     lats,\n",
    "                     filled,\n",
    "                     cmap='jet',\n",
    "                     transform=cartopy.crs.PlateCarree(),\n",
    "                     vmin=-0.1,\n",
    "                     vmax=0.1)\n",
    "ax2.coastlines()\n",
    "ax2.set_title(\"MSS modified using Gauss-Seidel\")\n",
    "ax2.set_extent([0, 170, -45, 30], crs=cartopy.crs.PlateCarree())\n",
    "fig.colorbar(pcm, ax=[ax1, ax2], shrink=0.8)\n",
    "fig.show()"
   ],
   "outputs": [],
   "metadata": {}
  }
 ],
 "metadata": {
  "kernelspec": {
   "display_name": "Python 3",
   "language": "python",
   "name": "python3"
  },
  "language_info": {
   "codemirror_mode": {
    "name": "ipython",
    "version": 3
   },
   "file_extension": ".py",
   "mimetype": "text/x-python",
   "name": "python",
   "nbconvert_exporter": "python",
   "pygments_lexer": "ipython3",
   "version": "3.8.5"
  }
 },
 "nbformat": 4,
 "nbformat_minor": 1
}